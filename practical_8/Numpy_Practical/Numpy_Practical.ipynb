{
 "cells": [
  {
   "cell_type": "markdown",
   "metadata": {
    "id": "vA74X-wE_muj"
   },
   "source": [
    "#### 1. Import the numpy package under the name `np`\n",
    "\n",
    "#### Import արեք numpy module-ը np անունով:"
   ]
  },
  {
   "cell_type": "code",
   "execution_count": 1,
   "metadata": {
    "id": "088q2nqC_mum"
   },
   "outputs": [],
   "source": [
    "import numpy as np"
   ]
  },
  {
   "cell_type": "markdown",
   "metadata": {
    "id": "oLd_5BEX_mun"
   },
   "source": [
    "#### 2. Create a numpy array of size 10 filled with zeros. \n",
    "\n",
    "#### Ստեղծեք 10 չափի 0-ներով լցված numpy array:"
   ]
  },
  {
   "cell_type": "code",
   "execution_count": 2,
   "metadata": {
    "id": "vAHu8pW1_muo"
   },
   "outputs": [
    {
     "data": {
      "text/plain": [
       "array([0, 0, 0, 0, 0, 0, 0, 0, 0, 0])"
      ]
     },
     "execution_count": 2,
     "metadata": {},
     "output_type": "execute_result"
    }
   ],
   "source": [
    "np.zeros(10, dtype=int)\n",
    "# help(np.zeros)"
   ]
  },
  {
   "cell_type": "markdown",
   "metadata": {
    "id": "xZknu3eB_muo"
   },
   "source": [
    "#### 3.  How to get the documentation of the numpy add function? \n",
    "\n",
    "#### Նայեք numpy-ի add ֆունկցիայի դոկումենտացիան:"
   ]
  },
  {
   "cell_type": "code",
   "execution_count": null,
   "metadata": {},
   "outputs": [],
   "source": []
  },
  {
   "cell_type": "markdown",
   "metadata": {
    "id": "7UIM9zCd_mup"
   },
   "source": [
    "#### 4.  Create a numpy array of size 10 filled with zeros but the fifth value is 1 \n",
    "\n",
    "#### Ստեղծեք 10 չափի 0-ներով լցված numpy array, որի 5րդ արժեքը 1 է:"
   ]
  },
  {
   "cell_type": "code",
   "execution_count": 4,
   "metadata": {
    "id": "dbwV4TQc_mup"
   },
   "outputs": [
    {
     "data": {
      "text/plain": [
       "array([0, 0, 0, 0, 1, 0, 0, 0, 0, 0])"
      ]
     },
     "execution_count": 4,
     "metadata": {},
     "output_type": "execute_result"
    }
   ],
   "source": [
    "a = np.zeros(10, dtype=int)\n",
    "a[4] = 1\n",
    "a"
   ]
  },
  {
   "cell_type": "markdown",
   "metadata": {
    "id": "PZOxNfMb_mup"
   },
   "source": [
    "#### 5.  Create a numpy array with values ranging from 10 to 49\n",
    "\n",
    "#### Ստեղծեք 10-ից 49 հաջորդական թվերով numpy array:"
   ]
  },
  {
   "cell_type": "code",
   "execution_count": 5,
   "metadata": {
    "id": "JMuOZd5r_muq"
   },
   "outputs": [
    {
     "data": {
      "text/plain": [
       "array([10, 11, 12, 13, 14, 15, 16, 17, 18, 19, 20, 21, 22, 23, 24, 25, 26,\n",
       "       27, 28, 29, 30, 31, 32, 33, 34, 35, 36, 37, 38, 39, 40, 41, 42, 43,\n",
       "       44, 45, 46, 47, 48, 49])"
      ]
     },
     "execution_count": 5,
     "metadata": {},
     "output_type": "execute_result"
    }
   ],
   "source": [
    "np.arange(10, 50)"
   ]
  },
  {
   "cell_type": "markdown",
   "metadata": {
    "id": "_R0nCk-c_muq"
   },
   "source": [
    "#### 6.  Reverse the numpy array ranging from 0 to 50. \n",
    "\n",
    "#### Ստեղծեք 0-ից 50 հաջորդական թվերով numpy array և տպեք այն շրջած ձևով:"
   ]
  },
  {
   "cell_type": "code",
   "execution_count": 6,
   "metadata": {
    "id": "iD2I3ebA_muq"
   },
   "outputs": [
    {
     "data": {
      "text/plain": [
       "array([50, 49, 48, 47, 46, 45, 44, 43, 42, 41, 40, 39, 38, 37, 36, 35, 34,\n",
       "       33, 32, 31, 30, 29, 28, 27, 26, 25, 24, 23, 22, 21, 20, 19, 18, 17,\n",
       "       16, 15, 14, 13, 12, 11, 10,  9,  8,  7,  6,  5,  4,  3,  2,  1,  0])"
      ]
     },
     "execution_count": 6,
     "metadata": {},
     "output_type": "execute_result"
    }
   ],
   "source": [
    "np.arange(0, 51)[::-1]"
   ]
  },
  {
   "cell_type": "markdown",
   "metadata": {
    "id": "OdulbRXZ_mur"
   },
   "source": [
    "#### 7.  Create a 3x3 matrix with values ranging from 0 to 8 \n",
    "\n",
    "#### Ստեղծեք 0-ից 8 հաջորդական թվերով 3x3 numpy array"
   ]
  },
  {
   "cell_type": "code",
   "execution_count": 7,
   "metadata": {
    "id": "a8PBxAp8_mur"
   },
   "outputs": [
    {
     "data": {
      "text/plain": [
       "array([[0, 1, 2],\n",
       "       [3, 4, 5],\n",
       "       [6, 7, 8]])"
      ]
     },
     "execution_count": 7,
     "metadata": {},
     "output_type": "execute_result"
    }
   ],
   "source": [
    "np.arange(9).reshape(3,3)"
   ]
  },
  {
   "cell_type": "markdown",
   "metadata": {
    "id": "OuJNsfSk_mur"
   },
   "source": [
    "#### 8. Find indices of non-zero elements from \\[1,2,0,0,4,0\\]\n",
    "\n",
    "#### Տրված է \\[1,2,0,0,4,0\\] numpy array-ը, գտեք ոչ-զրոյական արժեքներով տարրերի կոորդինատները:"
   ]
  },
  {
   "cell_type": "code",
   "execution_count": 8,
   "metadata": {
    "id": "qUEqM9HC_mur"
   },
   "outputs": [
    {
     "data": {
      "text/plain": [
       "(array([0, 1, 4], dtype=int64),)"
      ]
     },
     "execution_count": 8,
     "metadata": {},
     "output_type": "execute_result"
    }
   ],
   "source": [
    "arr = np.array([1,2,0,0,4,0])\n",
    "np.where(arr != 0)"
   ]
  },
  {
   "cell_type": "markdown",
   "metadata": {
    "id": "pd4MLNqz_mus"
   },
   "source": [
    "#### 9. Create a 3x3x3 array with random integers from 1 to 20\n",
    "\n",
    "#### Ստեղծեք 1-ից 20 պատահական թվերով լցված (3x3x3) չափանի numpy array:"
   ]
  },
  {
   "cell_type": "code",
   "execution_count": 9,
   "metadata": {
    "id": "jtyLkyNk_mus"
   },
   "outputs": [
    {
     "data": {
      "text/plain": [
       "array([[[ 1, 14, 13],\n",
       "        [13, 18, 16],\n",
       "        [18, 15,  8]],\n",
       "\n",
       "       [[10, 11,  1],\n",
       "        [18, 13,  6],\n",
       "        [15, 17, 18]],\n",
       "\n",
       "       [[16, 20, 15],\n",
       "        [ 1,  1, 16],\n",
       "        [18,  3,  3]]])"
      ]
     },
     "execution_count": 9,
     "metadata": {},
     "output_type": "execute_result"
    }
   ],
   "source": [
    "np.random.randint(1, 21, size=27).reshape(3,3,3)"
   ]
  },
  {
   "cell_type": "markdown",
   "metadata": {
    "id": "0_pwaolf_mus"
   },
   "source": [
    "#### 10. Create a 10x10 array with random values and find the minimum and maximum values \n",
    "\n",
    "#### Ստեղծեք պատահական թվերով լցված (10x10) չափանի numpy array ու տպեք դրա փոքրագույն ու մեծագույն արժեքները:"
   ]
  },
  {
   "cell_type": "code",
   "execution_count": 10,
   "metadata": {
    "id": "DE_B-rxC_mus"
   },
   "outputs": [
    {
     "name": "stdout",
     "output_type": "stream",
     "text": [
      "[[0.37651666 0.9251675  0.96500109 0.39161252 0.44872901 0.65246107\n",
      "  0.06582988 0.729987   0.29585076 0.77961641]\n",
      " [0.54316516 0.63342659 0.19796462 0.18463384 0.91651649 0.54529587\n",
      "  0.13731339 0.47299761 0.95430995 0.12371958]\n",
      " [0.19118429 0.24101713 0.6560932  0.18128825 0.62434915 0.77731366\n",
      "  0.57556239 0.52771357 0.6563903  0.39310279]\n",
      " [0.90186199 0.64521462 0.02615983 0.71186402 0.2871159  0.52183671\n",
      "  0.89959353 0.13659856 0.90853781 0.71036023]\n",
      " [0.22298855 0.50901898 0.39603692 0.58954927 0.27436819 0.90771576\n",
      "  0.30867152 0.68042992 0.58573854 0.15974176]\n",
      " [0.76023743 0.11066924 0.19121294 0.43788449 0.42481984 0.51698726\n",
      "  0.12785272 0.93775988 0.27832036 0.24483297]\n",
      " [0.19399673 0.21035465 0.56652364 0.57124859 0.85126226 0.21560264\n",
      "  0.16015226 0.48015592 0.88313185 0.64707677]\n",
      " [0.09080837 0.35556422 0.12891483 0.8281195  0.43992162 0.87437843\n",
      "  0.70364074 0.56661675 0.23463032 0.80870315]\n",
      " [0.03380953 0.25278977 0.26482422 0.13169818 0.3564764  0.43418565\n",
      "  0.87842849 0.05168174 0.77435446 0.25915938]\n",
      " [0.12708013 0.98328481 0.24693981 0.36368581 0.69045258 0.7814964\n",
      "  0.37745025 0.30299731 0.78863439 0.31441782]]\n",
      "max: 0.9832848121610052\n",
      "min: 0.026159829224308262\n"
     ]
    }
   ],
   "source": [
    "arr = np.random.rand(10, 10)\n",
    "print(arr)\n",
    "print(\"max:\", np.amax(arr))\n",
    "print(\"min:\",np.amin(arr))"
   ]
  },
  {
   "cell_type": "markdown",
   "metadata": {
    "id": "RL-NzMa-_mut"
   },
   "source": [
    "#### 11. Create a random vector of size 30 and find the mean value \n",
    "\n",
    "#### Ստեղծեք 30 չափանի պատահական թվերով լցված numpy array ու տպեք դրա միջին արժեքը:"
   ]
  },
  {
   "cell_type": "code",
   "execution_count": 11,
   "metadata": {
    "id": "HXwV0_Ts_mut"
   },
   "outputs": [
    {
     "data": {
      "text/plain": [
       "0.4880402986678186"
      ]
     },
     "execution_count": 11,
     "metadata": {},
     "output_type": "execute_result"
    }
   ],
   "source": [
    "np.mean(np.random.rand(30))"
   ]
  },
  {
   "cell_type": "markdown",
   "metadata": {
    "id": "Dk-LwBQR_mut"
   },
   "source": [
    "#### 12. Given a 1D array ranging from 0 to 10, print all the elements which are between 3 and 8. \n",
    "\n",
    "#### Ստեղծեք 0-ից 10 հաջորդական թվերով numpy array: Տպեք բոլոր արժեքները, որոնք 3-ից 8 միջակայքում են:"
   ]
  },
  {
   "cell_type": "code",
   "execution_count": 12,
   "metadata": {
    "id": "7UpEpgC9_mut"
   },
   "outputs": [
    {
     "name": "stdout",
     "output_type": "stream",
     "text": [
      "[10  7  7  2  5  2  8  1  3  5]\n",
      "[7 7 2 5 2 1 3 5]\n"
     ]
    }
   ],
   "source": [
    "arr = np.random.randint(1, 11, 10)\n",
    "result = np.where(arr > 3) and np.where(arr < 8)\n",
    "print(arr)\n",
    "print(arr[result])"
   ]
  },
  {
   "cell_type": "markdown",
   "metadata": {
    "id": "cxfsFgCc_mut"
   },
   "source": [
    "#### 13. Given a 1D array of 20 random integers from 0 to 10, multiply the values that are less than 5 by 2 and print the resulting array.\n",
    "\n",
    "#### Ստեղծեք 1-ից 10 պատահական ամբողջ թվերով լցված 20 չափանի numpy array: Բազմապատկեք 5-ից փոքր արժեք ունեցող տարերրը 2-ով ու տպեք արդյունքում ստացված array-ը:"
   ]
  },
  {
   "cell_type": "code",
   "execution_count": 15,
   "metadata": {
    "id": "Dnm36DHS_muu"
   },
   "outputs": [
    {
     "name": "stdout",
     "output_type": "stream",
     "text": [
      "(array([ 0,  1,  2,  3,  6, 10, 11, 13, 14, 15, 16], dtype=int64),)\n",
      "[1 4 1 1 9 9 1 5 5 5 3 2 5 3 0 4 0 9 8 8]\n",
      "[2 8 2 2 2 6 4 6 0 8 0]\n"
     ]
    }
   ],
   "source": [
    "arr = np.random.randint(0, 10, 20)\n",
    "result = np.where(arr < 5)\n",
    "print(result)\n",
    "print(arr)\n",
    "print(arr[result] * 2)"
   ]
  },
  {
   "cell_type": "markdown",
   "metadata": {
    "id": "Ah7bb92F_muu"
   },
   "source": [
    "#### 14. Given the 1D array [1, 5, 6, 2, -2, 23, 45], find the indices of the array elements that are divisible by 2.\n",
    "\n",
    "#### Տրված է [1, 5, 6, 2, -2, 23, 45] numpy array-ը, գտեք 2-ի բաժանվող տարրերի կոորդինատները:"
   ]
  },
  {
   "cell_type": "code",
   "execution_count": 16,
   "metadata": {
    "id": "irQRRQWp_muu"
   },
   "outputs": [
    {
     "data": {
      "text/plain": [
       "(array([2, 3, 4], dtype=int64),)"
      ]
     },
     "execution_count": 16,
     "metadata": {},
     "output_type": "execute_result"
    }
   ],
   "source": [
    "arr = np.array([1, 5, 6, 2, -2, 23, 45])\n",
    "np.where(arr % 2 == 0)"
   ]
  },
  {
   "cell_type": "markdown",
   "metadata": {
    "id": "EsxzD42U_muu"
   },
   "source": [
    "#### 15. Given a 1D array ranging from 0 to 20, print all the elements which are divisible by 3. \n",
    "\n",
    "#### Ստեղծեք 1-ից 20 հաջորդական թվերով լցված numpy array, տպեք բոլոր 3-ի բաժանվող տարրերի արժեքները:"
   ]
  },
  {
   "cell_type": "code",
   "execution_count": 17,
   "metadata": {
    "id": "4YOxs59Q_muu"
   },
   "outputs": [
    {
     "data": {
      "text/plain": [
       "array([ 3,  6,  9, 12, 15, 18])"
      ]
     },
     "execution_count": 17,
     "metadata": {},
     "output_type": "execute_result"
    }
   ],
   "source": [
    "arr = np.arange(1,21)\n",
    "result = np.where(arr % 3 == 0)\n",
    "arr[result]"
   ]
  },
  {
   "cell_type": "markdown",
   "metadata": {
    "id": "dyRooB17_muu"
   },
   "source": [
    "#### 16. Create a 5x5 numpy array with each row values ranging from 0 to 4 \n",
    "\n",
    "#### Ստեղծեք 5x5 numpy array, որի ամեն տող իրենից ներկայացնում է 0-ից 4 հաջորդական թվեր:"
   ]
  },
  {
   "cell_type": "code",
   "execution_count": 18,
   "metadata": {
    "id": "PkhrLBKr_muu"
   },
   "outputs": [
    {
     "data": {
      "text/plain": [
       "array([[2, 2, 1, 3, 4],\n",
       "       [1, 3, 1, 1, 4],\n",
       "       [4, 4, 2, 1, 1],\n",
       "       [4, 2, 0, 3, 1],\n",
       "       [4, 0, 3, 4, 0]])"
      ]
     },
     "execution_count": 18,
     "metadata": {},
     "output_type": "execute_result"
    }
   ],
   "source": [
    "np.random.randint(0, 5, 25).reshape(5, 5)"
   ]
  },
  {
   "cell_type": "markdown",
   "metadata": {
    "id": "rv9tX3mP_muu"
   },
   "source": [
    "#### 17. Create the following 2x2 numpy array np.array([[0, 1],[2, 3]]). Find the minimum and maximum values in the array.\n",
    "\n",
    "#### Ստեղծեք 2x2 numpy array np.array([[0, 1],[2, 3]]) : Գտեք array-ի մեծագույն ու փոքրագույն արժեքները։"
   ]
  },
  {
   "cell_type": "code",
   "execution_count": 19,
   "metadata": {
    "id": "JUNM0S6j_muv"
   },
   "outputs": [
    {
     "data": {
      "text/plain": [
       "(3, 0)"
      ]
     },
     "execution_count": 19,
     "metadata": {},
     "output_type": "execute_result"
    }
   ],
   "source": [
    "arr = np.array([[0, 1],[2, 3]])\n",
    "np.amax(arr), np.amin(arr)"
   ]
  },
  {
   "cell_type": "markdown",
   "metadata": {
    "id": "S7-6MD2X_muv"
   },
   "source": [
    "#### 18. Create the following 2x2 numpy array np.array([[0, 1],[2, 3]]). Find the minimum and maximum values in each column.\n",
    "\n",
    "#### Ստեղծեք 2x2 numpy array np.array([[0, 1],[2, 3]]) : Գտեք array-ի սյուների մեծագույն ու փոքրագույն արժեքները։"
   ]
  },
  {
   "cell_type": "code",
   "execution_count": 20,
   "metadata": {
    "id": "7AOiyPLV_muv"
   },
   "outputs": [
    {
     "name": "stdout",
     "output_type": "stream",
     "text": [
      "[2 3]\n",
      "[0 1]\n"
     ]
    }
   ],
   "source": [
    "arr =  np.array([[0, 1],[2, 3]])\n",
    "print(np.amax(arr, axis=0))\n",
    "print(np.amin(arr, axis=0))"
   ]
  },
  {
   "cell_type": "markdown",
   "metadata": {
    "id": "tfK2OZ7M_muv"
   },
   "source": [
    "#### 19. Create  numpy array of size 10 filled with integers of your choice. Compute mean, median, standard deviation and variance of the array values. \n",
    "\n",
    "#### Ստեղծեք 10 չափանի numpy array, հաշվեք array-ի mean, median, standard deviation և variance։"
   ]
  },
  {
   "cell_type": "code",
   "execution_count": 26,
   "metadata": {
    "id": "zQ_bXB7y_muv"
   },
   "outputs": [
    {
     "data": {
      "text/plain": [
       "(14.9966, 15.0, 3.164409651103978, 10.01348844)"
      ]
     },
     "execution_count": 26,
     "metadata": {},
     "output_type": "execute_result"
    }
   ],
   "source": [
    "arr = np.random.randint(10, 21, 100000)\n",
    "#print(arr)\n",
    "np.mean(arr), np.median(arr), np.std(arr), np.var(arr)"
   ]
  },
  {
   "cell_type": "markdown",
   "metadata": {
    "id": "_aP1lboG_muv"
   },
   "source": [
    "#### 20. Calculate the weighted average of the following array: np.array([2, 4, 3, 5, 6, 12, 34, 2, 34, 5]). \n",
    "\n",
    "#### Հաշվեք տրված array-ի կշռված միջինը՝ np.array([2, 4, 3, 5, 6, 12, 34, 2, 34, 5])։"
   ]
  },
  {
   "cell_type": "code",
   "execution_count": 27,
   "metadata": {
    "id": "cQ3W7T9G_muv"
   },
   "outputs": [
    {
     "data": {
      "text/plain": [
       "13.62962962962963"
      ]
     },
     "execution_count": 27,
     "metadata": {},
     "output_type": "execute_result"
    }
   ],
   "source": [
    "arr = np.array([2, 4, 3, 5, 6, 12, 34, 2, 34, 5])\n",
    "weights = np.random.randint(1, 5, len(arr))\n",
    "np.average(arr, weights=weights)"
   ]
  },
  {
   "cell_type": "markdown",
   "metadata": {
    "id": "xbIE2-hl_muv"
   },
   "source": [
    "#### 21. Sort the rows of the following numpy array in an increasing order: np.array([[4, 2, 6, 1],[0, 2, 6, 1],[4, 4, 1, 9]]). \n",
    "\n",
    "#### Աճման կարգով դասավորեք տրված numpy array-ի տողերը՝ np.array([[4, 2, 6, 1],[0, 2, 6, 1],[4, 4, 1, 9]]):"
   ]
  },
  {
   "cell_type": "code",
   "execution_count": 28,
   "metadata": {
    "id": "8YrQSjl__muw"
   },
   "outputs": [
    {
     "data": {
      "text/plain": [
       "array([[1, 2, 4, 6],\n",
       "       [0, 1, 2, 6],\n",
       "       [1, 4, 4, 9]])"
      ]
     },
     "execution_count": 28,
     "metadata": {},
     "output_type": "execute_result"
    }
   ],
   "source": [
    "arr = np.array([[4, 2, 6, 1],[0, 2, 6, 1],[4, 4, 1, 9]])\n",
    "np.sort(arr)"
   ]
  },
  {
   "cell_type": "markdown",
   "metadata": {
    "id": "U6kaR4OD_muw"
   },
   "source": [
    "#### 22. Create the following numpy arrays and calculate the dot product between a and b. \n",
    "\n",
    "#### Ստեղծեք հետևյալ numpy array-ները ու հաշվեք a և b array-ների dot product-ը։"
   ]
  },
  {
   "cell_type": "markdown",
   "metadata": {
    "id": "B4_Z_wOn_muw"
   },
   "source": [
    "$$a = \\begin{bmatrix} 3 & 6 & 7 \\\\ 5 & -3 & 0  \\end{bmatrix}$$\n",
    "\n",
    "$$b = \\begin{bmatrix} 1 & 1 \\\\ 2 & 1 \\\\ 3 & -3 \\end{bmatrix}$$"
   ]
  },
  {
   "cell_type": "code",
   "execution_count": 29,
   "metadata": {
    "id": "Z20AbYtr_muw"
   },
   "outputs": [
    {
     "data": {
      "text/plain": [
       "array([[ 36, -12],\n",
       "       [ -1,   2]])"
      ]
     },
     "execution_count": 29,
     "metadata": {},
     "output_type": "execute_result"
    }
   ],
   "source": [
    "a = np.array([[3, 6, 7],\n",
    "             [5, -3, 0]])\n",
    "b = np.array([[1, 1],\n",
    "              [2, 1],\n",
    "              [3, -3]])\n",
    "np.dot(a, b)"
   ]
  },
  {
   "cell_type": "code",
   "execution_count": null,
   "metadata": {},
   "outputs": [],
   "source": []
  }
 ],
 "metadata": {
  "colab": {
   "collapsed_sections": [],
   "name": "Numpy_Practical.ipynb",
   "provenance": []
  },
  "kernelspec": {
   "display_name": "Python 3",
   "language": "python",
   "name": "python3"
  },
  "language_info": {
   "codemirror_mode": {
    "name": "ipython",
    "version": 3
   },
   "file_extension": ".py",
   "mimetype": "text/x-python",
   "name": "python",
   "nbconvert_exporter": "python",
   "pygments_lexer": "ipython3",
   "version": "3.8.10"
  }
 },
 "nbformat": 4,
 "nbformat_minor": 1
}
