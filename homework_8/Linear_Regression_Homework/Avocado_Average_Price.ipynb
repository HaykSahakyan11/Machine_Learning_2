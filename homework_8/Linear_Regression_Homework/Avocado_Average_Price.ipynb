{
 "cells": [
  {
   "cell_type": "code",
   "execution_count": 46,
   "id": "d19237cc",
   "metadata": {},
   "outputs": [],
   "source": [
    "import pandas as pd\n",
    "import matplotlib.pyplot as plt\n",
    "import numpy as np\n",
    "import seaborn as sns\n",
    "import scipy.stats as stats\n",
    "%matplotlib inline"
   ]
  },
  {
   "cell_type": "markdown",
   "id": "79c310ae",
   "metadata": {},
   "source": [
    "#### Read the 'avocado.csv' with pandas. Make sure a new unnecessary column is not generated."
   ]
  },
  {
   "cell_type": "code",
   "execution_count": 47,
   "id": "89218402",
   "metadata": {},
   "outputs": [
    {
     "data": {
      "text/html": [
       "<div>\n",
       "<style scoped>\n",
       "    .dataframe tbody tr th:only-of-type {\n",
       "        vertical-align: middle;\n",
       "    }\n",
       "\n",
       "    .dataframe tbody tr th {\n",
       "        vertical-align: top;\n",
       "    }\n",
       "\n",
       "    .dataframe thead th {\n",
       "        text-align: right;\n",
       "    }\n",
       "</style>\n",
       "<table border=\"1\" class=\"dataframe\">\n",
       "  <thead>\n",
       "    <tr style=\"text-align: right;\">\n",
       "      <th></th>\n",
       "      <th>Unnamed: 0</th>\n",
       "      <th>Date</th>\n",
       "      <th>AveragePrice</th>\n",
       "      <th>Total Volume</th>\n",
       "      <th>4046</th>\n",
       "      <th>4225</th>\n",
       "      <th>4770</th>\n",
       "      <th>Total Bags</th>\n",
       "      <th>Small Bags</th>\n",
       "      <th>Large Bags</th>\n",
       "      <th>XLarge Bags</th>\n",
       "      <th>type</th>\n",
       "      <th>year</th>\n",
       "      <th>region</th>\n",
       "    </tr>\n",
       "  </thead>\n",
       "  <tbody>\n",
       "    <tr>\n",
       "      <th>0</th>\n",
       "      <td>0</td>\n",
       "      <td>2015-12-27</td>\n",
       "      <td>1.33</td>\n",
       "      <td>64236.62</td>\n",
       "      <td>1036.74</td>\n",
       "      <td>54454.85</td>\n",
       "      <td>48.16</td>\n",
       "      <td>8696.87</td>\n",
       "      <td>8603.62</td>\n",
       "      <td>93.25</td>\n",
       "      <td>0.0</td>\n",
       "      <td>conventional</td>\n",
       "      <td>2015</td>\n",
       "      <td>Albany</td>\n",
       "    </tr>\n",
       "    <tr>\n",
       "      <th>1</th>\n",
       "      <td>1</td>\n",
       "      <td>2015-12-20</td>\n",
       "      <td>1.35</td>\n",
       "      <td>54876.98</td>\n",
       "      <td>674.28</td>\n",
       "      <td>44638.81</td>\n",
       "      <td>58.33</td>\n",
       "      <td>9505.56</td>\n",
       "      <td>9408.07</td>\n",
       "      <td>97.49</td>\n",
       "      <td>0.0</td>\n",
       "      <td>conventional</td>\n",
       "      <td>2015</td>\n",
       "      <td>Albany</td>\n",
       "    </tr>\n",
       "    <tr>\n",
       "      <th>2</th>\n",
       "      <td>2</td>\n",
       "      <td>2015-12-13</td>\n",
       "      <td>0.93</td>\n",
       "      <td>118220.22</td>\n",
       "      <td>794.70</td>\n",
       "      <td>109149.67</td>\n",
       "      <td>130.50</td>\n",
       "      <td>8145.35</td>\n",
       "      <td>8042.21</td>\n",
       "      <td>103.14</td>\n",
       "      <td>0.0</td>\n",
       "      <td>conventional</td>\n",
       "      <td>2015</td>\n",
       "      <td>Albany</td>\n",
       "    </tr>\n",
       "    <tr>\n",
       "      <th>3</th>\n",
       "      <td>3</td>\n",
       "      <td>2015-12-06</td>\n",
       "      <td>1.08</td>\n",
       "      <td>78992.15</td>\n",
       "      <td>1132.00</td>\n",
       "      <td>71976.41</td>\n",
       "      <td>72.58</td>\n",
       "      <td>5811.16</td>\n",
       "      <td>5677.40</td>\n",
       "      <td>133.76</td>\n",
       "      <td>0.0</td>\n",
       "      <td>conventional</td>\n",
       "      <td>2015</td>\n",
       "      <td>Albany</td>\n",
       "    </tr>\n",
       "    <tr>\n",
       "      <th>4</th>\n",
       "      <td>4</td>\n",
       "      <td>2015-11-29</td>\n",
       "      <td>1.28</td>\n",
       "      <td>51039.60</td>\n",
       "      <td>941.48</td>\n",
       "      <td>43838.39</td>\n",
       "      <td>75.78</td>\n",
       "      <td>6183.95</td>\n",
       "      <td>5986.26</td>\n",
       "      <td>197.69</td>\n",
       "      <td>0.0</td>\n",
       "      <td>conventional</td>\n",
       "      <td>2015</td>\n",
       "      <td>Albany</td>\n",
       "    </tr>\n",
       "    <tr>\n",
       "      <th>...</th>\n",
       "      <td>...</td>\n",
       "      <td>...</td>\n",
       "      <td>...</td>\n",
       "      <td>...</td>\n",
       "      <td>...</td>\n",
       "      <td>...</td>\n",
       "      <td>...</td>\n",
       "      <td>...</td>\n",
       "      <td>...</td>\n",
       "      <td>...</td>\n",
       "      <td>...</td>\n",
       "      <td>...</td>\n",
       "      <td>...</td>\n",
       "      <td>...</td>\n",
       "    </tr>\n",
       "    <tr>\n",
       "      <th>18244</th>\n",
       "      <td>7</td>\n",
       "      <td>2018-02-04</td>\n",
       "      <td>1.63</td>\n",
       "      <td>17074.83</td>\n",
       "      <td>2046.96</td>\n",
       "      <td>1529.20</td>\n",
       "      <td>0.00</td>\n",
       "      <td>13498.67</td>\n",
       "      <td>13066.82</td>\n",
       "      <td>431.85</td>\n",
       "      <td>0.0</td>\n",
       "      <td>organic</td>\n",
       "      <td>2018</td>\n",
       "      <td>WestTexNewMexico</td>\n",
       "    </tr>\n",
       "    <tr>\n",
       "      <th>18245</th>\n",
       "      <td>8</td>\n",
       "      <td>2018-01-28</td>\n",
       "      <td>1.71</td>\n",
       "      <td>13888.04</td>\n",
       "      <td>1191.70</td>\n",
       "      <td>3431.50</td>\n",
       "      <td>0.00</td>\n",
       "      <td>9264.84</td>\n",
       "      <td>8940.04</td>\n",
       "      <td>324.80</td>\n",
       "      <td>0.0</td>\n",
       "      <td>organic</td>\n",
       "      <td>2018</td>\n",
       "      <td>WestTexNewMexico</td>\n",
       "    </tr>\n",
       "    <tr>\n",
       "      <th>18246</th>\n",
       "      <td>9</td>\n",
       "      <td>2018-01-21</td>\n",
       "      <td>1.87</td>\n",
       "      <td>13766.76</td>\n",
       "      <td>1191.92</td>\n",
       "      <td>2452.79</td>\n",
       "      <td>727.94</td>\n",
       "      <td>9394.11</td>\n",
       "      <td>9351.80</td>\n",
       "      <td>42.31</td>\n",
       "      <td>0.0</td>\n",
       "      <td>organic</td>\n",
       "      <td>2018</td>\n",
       "      <td>WestTexNewMexico</td>\n",
       "    </tr>\n",
       "    <tr>\n",
       "      <th>18247</th>\n",
       "      <td>10</td>\n",
       "      <td>2018-01-14</td>\n",
       "      <td>1.93</td>\n",
       "      <td>16205.22</td>\n",
       "      <td>1527.63</td>\n",
       "      <td>2981.04</td>\n",
       "      <td>727.01</td>\n",
       "      <td>10969.54</td>\n",
       "      <td>10919.54</td>\n",
       "      <td>50.00</td>\n",
       "      <td>0.0</td>\n",
       "      <td>organic</td>\n",
       "      <td>2018</td>\n",
       "      <td>WestTexNewMexico</td>\n",
       "    </tr>\n",
       "    <tr>\n",
       "      <th>18248</th>\n",
       "      <td>11</td>\n",
       "      <td>2018-01-07</td>\n",
       "      <td>1.62</td>\n",
       "      <td>17489.58</td>\n",
       "      <td>2894.77</td>\n",
       "      <td>2356.13</td>\n",
       "      <td>224.53</td>\n",
       "      <td>12014.15</td>\n",
       "      <td>11988.14</td>\n",
       "      <td>26.01</td>\n",
       "      <td>0.0</td>\n",
       "      <td>organic</td>\n",
       "      <td>2018</td>\n",
       "      <td>WestTexNewMexico</td>\n",
       "    </tr>\n",
       "  </tbody>\n",
       "</table>\n",
       "<p>18249 rows × 14 columns</p>\n",
       "</div>"
      ],
      "text/plain": [
       "       Unnamed: 0        Date  AveragePrice  Total Volume     4046       4225  \\\n",
       "0               0  2015-12-27          1.33      64236.62  1036.74   54454.85   \n",
       "1               1  2015-12-20          1.35      54876.98   674.28   44638.81   \n",
       "2               2  2015-12-13          0.93     118220.22   794.70  109149.67   \n",
       "3               3  2015-12-06          1.08      78992.15  1132.00   71976.41   \n",
       "4               4  2015-11-29          1.28      51039.60   941.48   43838.39   \n",
       "...           ...         ...           ...           ...      ...        ...   \n",
       "18244           7  2018-02-04          1.63      17074.83  2046.96    1529.20   \n",
       "18245           8  2018-01-28          1.71      13888.04  1191.70    3431.50   \n",
       "18246           9  2018-01-21          1.87      13766.76  1191.92    2452.79   \n",
       "18247          10  2018-01-14          1.93      16205.22  1527.63    2981.04   \n",
       "18248          11  2018-01-07          1.62      17489.58  2894.77    2356.13   \n",
       "\n",
       "         4770  Total Bags  Small Bags  Large Bags  XLarge Bags          type  \\\n",
       "0       48.16     8696.87     8603.62       93.25          0.0  conventional   \n",
       "1       58.33     9505.56     9408.07       97.49          0.0  conventional   \n",
       "2      130.50     8145.35     8042.21      103.14          0.0  conventional   \n",
       "3       72.58     5811.16     5677.40      133.76          0.0  conventional   \n",
       "4       75.78     6183.95     5986.26      197.69          0.0  conventional   \n",
       "...       ...         ...         ...         ...          ...           ...   \n",
       "18244    0.00    13498.67    13066.82      431.85          0.0       organic   \n",
       "18245    0.00     9264.84     8940.04      324.80          0.0       organic   \n",
       "18246  727.94     9394.11     9351.80       42.31          0.0       organic   \n",
       "18247  727.01    10969.54    10919.54       50.00          0.0       organic   \n",
       "18248  224.53    12014.15    11988.14       26.01          0.0       organic   \n",
       "\n",
       "       year            region  \n",
       "0      2015            Albany  \n",
       "1      2015            Albany  \n",
       "2      2015            Albany  \n",
       "3      2015            Albany  \n",
       "4      2015            Albany  \n",
       "...     ...               ...  \n",
       "18244  2018  WestTexNewMexico  \n",
       "18245  2018  WestTexNewMexico  \n",
       "18246  2018  WestTexNewMexico  \n",
       "18247  2018  WestTexNewMexico  \n",
       "18248  2018  WestTexNewMexico  \n",
       "\n",
       "[18249 rows x 14 columns]"
      ]
     },
     "execution_count": 47,
     "metadata": {},
     "output_type": "execute_result"
    }
   ],
   "source": [
    "# TODO\n",
    "df = pd.read_csv('avocado.csv')\n",
    "df"
   ]
  },
  {
   "cell_type": "code",
   "execution_count": 48,
   "id": "b8c42841",
   "metadata": {},
   "outputs": [
    {
     "data": {
      "text/plain": [
       "Index(['Unnamed: 0', 'Date', 'AveragePrice', 'Total Volume', '4046', '4225',\n",
       "       '4770', 'Total Bags', 'Small Bags', 'Large Bags', 'XLarge Bags', 'type',\n",
       "       'year', 'region'],\n",
       "      dtype='object')"
      ]
     },
     "execution_count": 48,
     "metadata": {},
     "output_type": "execute_result"
    }
   ],
   "source": [
    "df.columns"
   ]
  },
  {
   "cell_type": "code",
   "execution_count": 49,
   "id": "8b9feb1c",
   "metadata": {
    "scrolled": true
   },
   "outputs": [
    {
     "data": {
      "text/html": [
       "<div>\n",
       "<style scoped>\n",
       "    .dataframe tbody tr th:only-of-type {\n",
       "        vertical-align: middle;\n",
       "    }\n",
       "\n",
       "    .dataframe tbody tr th {\n",
       "        vertical-align: top;\n",
       "    }\n",
       "\n",
       "    .dataframe thead th {\n",
       "        text-align: right;\n",
       "    }\n",
       "</style>\n",
       "<table border=\"1\" class=\"dataframe\">\n",
       "  <thead>\n",
       "    <tr style=\"text-align: right;\">\n",
       "      <th></th>\n",
       "      <th>Date</th>\n",
       "      <th>AveragePrice</th>\n",
       "      <th>Total Volume</th>\n",
       "      <th>4046</th>\n",
       "      <th>4225</th>\n",
       "      <th>4770</th>\n",
       "      <th>Total Bags</th>\n",
       "      <th>Small Bags</th>\n",
       "      <th>Large Bags</th>\n",
       "      <th>XLarge Bags</th>\n",
       "      <th>type</th>\n",
       "      <th>year</th>\n",
       "      <th>region</th>\n",
       "    </tr>\n",
       "  </thead>\n",
       "  <tbody>\n",
       "    <tr>\n",
       "      <th>0</th>\n",
       "      <td>2015-12-27</td>\n",
       "      <td>1.33</td>\n",
       "      <td>64236.62</td>\n",
       "      <td>1036.74</td>\n",
       "      <td>54454.85</td>\n",
       "      <td>48.16</td>\n",
       "      <td>8696.87</td>\n",
       "      <td>8603.62</td>\n",
       "      <td>93.25</td>\n",
       "      <td>0.0</td>\n",
       "      <td>conventional</td>\n",
       "      <td>2015</td>\n",
       "      <td>Albany</td>\n",
       "    </tr>\n",
       "    <tr>\n",
       "      <th>1</th>\n",
       "      <td>2015-12-20</td>\n",
       "      <td>1.35</td>\n",
       "      <td>54876.98</td>\n",
       "      <td>674.28</td>\n",
       "      <td>44638.81</td>\n",
       "      <td>58.33</td>\n",
       "      <td>9505.56</td>\n",
       "      <td>9408.07</td>\n",
       "      <td>97.49</td>\n",
       "      <td>0.0</td>\n",
       "      <td>conventional</td>\n",
       "      <td>2015</td>\n",
       "      <td>Albany</td>\n",
       "    </tr>\n",
       "    <tr>\n",
       "      <th>2</th>\n",
       "      <td>2015-12-13</td>\n",
       "      <td>0.93</td>\n",
       "      <td>118220.22</td>\n",
       "      <td>794.70</td>\n",
       "      <td>109149.67</td>\n",
       "      <td>130.50</td>\n",
       "      <td>8145.35</td>\n",
       "      <td>8042.21</td>\n",
       "      <td>103.14</td>\n",
       "      <td>0.0</td>\n",
       "      <td>conventional</td>\n",
       "      <td>2015</td>\n",
       "      <td>Albany</td>\n",
       "    </tr>\n",
       "    <tr>\n",
       "      <th>3</th>\n",
       "      <td>2015-12-06</td>\n",
       "      <td>1.08</td>\n",
       "      <td>78992.15</td>\n",
       "      <td>1132.00</td>\n",
       "      <td>71976.41</td>\n",
       "      <td>72.58</td>\n",
       "      <td>5811.16</td>\n",
       "      <td>5677.40</td>\n",
       "      <td>133.76</td>\n",
       "      <td>0.0</td>\n",
       "      <td>conventional</td>\n",
       "      <td>2015</td>\n",
       "      <td>Albany</td>\n",
       "    </tr>\n",
       "    <tr>\n",
       "      <th>4</th>\n",
       "      <td>2015-11-29</td>\n",
       "      <td>1.28</td>\n",
       "      <td>51039.60</td>\n",
       "      <td>941.48</td>\n",
       "      <td>43838.39</td>\n",
       "      <td>75.78</td>\n",
       "      <td>6183.95</td>\n",
       "      <td>5986.26</td>\n",
       "      <td>197.69</td>\n",
       "      <td>0.0</td>\n",
       "      <td>conventional</td>\n",
       "      <td>2015</td>\n",
       "      <td>Albany</td>\n",
       "    </tr>\n",
       "    <tr>\n",
       "      <th>...</th>\n",
       "      <td>...</td>\n",
       "      <td>...</td>\n",
       "      <td>...</td>\n",
       "      <td>...</td>\n",
       "      <td>...</td>\n",
       "      <td>...</td>\n",
       "      <td>...</td>\n",
       "      <td>...</td>\n",
       "      <td>...</td>\n",
       "      <td>...</td>\n",
       "      <td>...</td>\n",
       "      <td>...</td>\n",
       "      <td>...</td>\n",
       "    </tr>\n",
       "    <tr>\n",
       "      <th>7</th>\n",
       "      <td>2018-02-04</td>\n",
       "      <td>1.63</td>\n",
       "      <td>17074.83</td>\n",
       "      <td>2046.96</td>\n",
       "      <td>1529.20</td>\n",
       "      <td>0.00</td>\n",
       "      <td>13498.67</td>\n",
       "      <td>13066.82</td>\n",
       "      <td>431.85</td>\n",
       "      <td>0.0</td>\n",
       "      <td>organic</td>\n",
       "      <td>2018</td>\n",
       "      <td>WestTexNewMexico</td>\n",
       "    </tr>\n",
       "    <tr>\n",
       "      <th>8</th>\n",
       "      <td>2018-01-28</td>\n",
       "      <td>1.71</td>\n",
       "      <td>13888.04</td>\n",
       "      <td>1191.70</td>\n",
       "      <td>3431.50</td>\n",
       "      <td>0.00</td>\n",
       "      <td>9264.84</td>\n",
       "      <td>8940.04</td>\n",
       "      <td>324.80</td>\n",
       "      <td>0.0</td>\n",
       "      <td>organic</td>\n",
       "      <td>2018</td>\n",
       "      <td>WestTexNewMexico</td>\n",
       "    </tr>\n",
       "    <tr>\n",
       "      <th>9</th>\n",
       "      <td>2018-01-21</td>\n",
       "      <td>1.87</td>\n",
       "      <td>13766.76</td>\n",
       "      <td>1191.92</td>\n",
       "      <td>2452.79</td>\n",
       "      <td>727.94</td>\n",
       "      <td>9394.11</td>\n",
       "      <td>9351.80</td>\n",
       "      <td>42.31</td>\n",
       "      <td>0.0</td>\n",
       "      <td>organic</td>\n",
       "      <td>2018</td>\n",
       "      <td>WestTexNewMexico</td>\n",
       "    </tr>\n",
       "    <tr>\n",
       "      <th>10</th>\n",
       "      <td>2018-01-14</td>\n",
       "      <td>1.93</td>\n",
       "      <td>16205.22</td>\n",
       "      <td>1527.63</td>\n",
       "      <td>2981.04</td>\n",
       "      <td>727.01</td>\n",
       "      <td>10969.54</td>\n",
       "      <td>10919.54</td>\n",
       "      <td>50.00</td>\n",
       "      <td>0.0</td>\n",
       "      <td>organic</td>\n",
       "      <td>2018</td>\n",
       "      <td>WestTexNewMexico</td>\n",
       "    </tr>\n",
       "    <tr>\n",
       "      <th>11</th>\n",
       "      <td>2018-01-07</td>\n",
       "      <td>1.62</td>\n",
       "      <td>17489.58</td>\n",
       "      <td>2894.77</td>\n",
       "      <td>2356.13</td>\n",
       "      <td>224.53</td>\n",
       "      <td>12014.15</td>\n",
       "      <td>11988.14</td>\n",
       "      <td>26.01</td>\n",
       "      <td>0.0</td>\n",
       "      <td>organic</td>\n",
       "      <td>2018</td>\n",
       "      <td>WestTexNewMexico</td>\n",
       "    </tr>\n",
       "  </tbody>\n",
       "</table>\n",
       "<p>18249 rows × 13 columns</p>\n",
       "</div>"
      ],
      "text/plain": [
       "          Date  AveragePrice  Total Volume     4046       4225    4770  \\\n",
       "0   2015-12-27          1.33      64236.62  1036.74   54454.85   48.16   \n",
       "1   2015-12-20          1.35      54876.98   674.28   44638.81   58.33   \n",
       "2   2015-12-13          0.93     118220.22   794.70  109149.67  130.50   \n",
       "3   2015-12-06          1.08      78992.15  1132.00   71976.41   72.58   \n",
       "4   2015-11-29          1.28      51039.60   941.48   43838.39   75.78   \n",
       "..         ...           ...           ...      ...        ...     ...   \n",
       "7   2018-02-04          1.63      17074.83  2046.96    1529.20    0.00   \n",
       "8   2018-01-28          1.71      13888.04  1191.70    3431.50    0.00   \n",
       "9   2018-01-21          1.87      13766.76  1191.92    2452.79  727.94   \n",
       "10  2018-01-14          1.93      16205.22  1527.63    2981.04  727.01   \n",
       "11  2018-01-07          1.62      17489.58  2894.77    2356.13  224.53   \n",
       "\n",
       "    Total Bags  Small Bags  Large Bags  XLarge Bags          type  year  \\\n",
       "0      8696.87     8603.62       93.25          0.0  conventional  2015   \n",
       "1      9505.56     9408.07       97.49          0.0  conventional  2015   \n",
       "2      8145.35     8042.21      103.14          0.0  conventional  2015   \n",
       "3      5811.16     5677.40      133.76          0.0  conventional  2015   \n",
       "4      6183.95     5986.26      197.69          0.0  conventional  2015   \n",
       "..         ...         ...         ...          ...           ...   ...   \n",
       "7     13498.67    13066.82      431.85          0.0       organic  2018   \n",
       "8      9264.84     8940.04      324.80          0.0       organic  2018   \n",
       "9      9394.11     9351.80       42.31          0.0       organic  2018   \n",
       "10    10969.54    10919.54       50.00          0.0       organic  2018   \n",
       "11    12014.15    11988.14       26.01          0.0       organic  2018   \n",
       "\n",
       "              region  \n",
       "0             Albany  \n",
       "1             Albany  \n",
       "2             Albany  \n",
       "3             Albany  \n",
       "4             Albany  \n",
       "..               ...  \n",
       "7   WestTexNewMexico  \n",
       "8   WestTexNewMexico  \n",
       "9   WestTexNewMexico  \n",
       "10  WestTexNewMexico  \n",
       "11  WestTexNewMexico  \n",
       "\n",
       "[18249 rows x 13 columns]"
      ]
     },
     "execution_count": 49,
     "metadata": {},
     "output_type": "execute_result"
    }
   ],
   "source": [
    "df = pd.read_csv('avocado.csv', index_col='Unnamed: 0')\n",
    "df"
   ]
  },
  {
   "cell_type": "code",
   "execution_count": 50,
   "id": "03a7c12a",
   "metadata": {},
   "outputs": [
    {
     "data": {
      "text/plain": [
       "(18249, 13)"
      ]
     },
     "execution_count": 50,
     "metadata": {},
     "output_type": "execute_result"
    }
   ],
   "source": [
    "df.shape"
   ]
  },
  {
   "cell_type": "code",
   "execution_count": 51,
   "id": "25c0b3db",
   "metadata": {
    "scrolled": true
   },
   "outputs": [
    {
     "data": {
      "text/html": [
       "<div>\n",
       "<style scoped>\n",
       "    .dataframe tbody tr th:only-of-type {\n",
       "        vertical-align: middle;\n",
       "    }\n",
       "\n",
       "    .dataframe tbody tr th {\n",
       "        vertical-align: top;\n",
       "    }\n",
       "\n",
       "    .dataframe thead th {\n",
       "        text-align: right;\n",
       "    }\n",
       "</style>\n",
       "<table border=\"1\" class=\"dataframe\">\n",
       "  <thead>\n",
       "    <tr style=\"text-align: right;\">\n",
       "      <th></th>\n",
       "      <th>Date</th>\n",
       "      <th>AveragePrice</th>\n",
       "      <th>Total Volume</th>\n",
       "      <th>4046</th>\n",
       "      <th>4225</th>\n",
       "      <th>4770</th>\n",
       "      <th>Total Bags</th>\n",
       "      <th>Small Bags</th>\n",
       "      <th>Large Bags</th>\n",
       "      <th>XLarge Bags</th>\n",
       "      <th>type</th>\n",
       "      <th>year</th>\n",
       "      <th>region</th>\n",
       "    </tr>\n",
       "  </thead>\n",
       "  <tbody>\n",
       "    <tr>\n",
       "      <th>count</th>\n",
       "      <td>18249</td>\n",
       "      <td>18249.000000</td>\n",
       "      <td>1.824900e+04</td>\n",
       "      <td>1.824900e+04</td>\n",
       "      <td>1.824900e+04</td>\n",
       "      <td>1.824900e+04</td>\n",
       "      <td>1.824900e+04</td>\n",
       "      <td>1.824900e+04</td>\n",
       "      <td>1.824900e+04</td>\n",
       "      <td>18249.000000</td>\n",
       "      <td>18249</td>\n",
       "      <td>18249.000000</td>\n",
       "      <td>18249</td>\n",
       "    </tr>\n",
       "    <tr>\n",
       "      <th>unique</th>\n",
       "      <td>169</td>\n",
       "      <td>NaN</td>\n",
       "      <td>NaN</td>\n",
       "      <td>NaN</td>\n",
       "      <td>NaN</td>\n",
       "      <td>NaN</td>\n",
       "      <td>NaN</td>\n",
       "      <td>NaN</td>\n",
       "      <td>NaN</td>\n",
       "      <td>NaN</td>\n",
       "      <td>2</td>\n",
       "      <td>NaN</td>\n",
       "      <td>54</td>\n",
       "    </tr>\n",
       "    <tr>\n",
       "      <th>top</th>\n",
       "      <td>2015-12-27</td>\n",
       "      <td>NaN</td>\n",
       "      <td>NaN</td>\n",
       "      <td>NaN</td>\n",
       "      <td>NaN</td>\n",
       "      <td>NaN</td>\n",
       "      <td>NaN</td>\n",
       "      <td>NaN</td>\n",
       "      <td>NaN</td>\n",
       "      <td>NaN</td>\n",
       "      <td>conventional</td>\n",
       "      <td>NaN</td>\n",
       "      <td>Albany</td>\n",
       "    </tr>\n",
       "    <tr>\n",
       "      <th>freq</th>\n",
       "      <td>108</td>\n",
       "      <td>NaN</td>\n",
       "      <td>NaN</td>\n",
       "      <td>NaN</td>\n",
       "      <td>NaN</td>\n",
       "      <td>NaN</td>\n",
       "      <td>NaN</td>\n",
       "      <td>NaN</td>\n",
       "      <td>NaN</td>\n",
       "      <td>NaN</td>\n",
       "      <td>9126</td>\n",
       "      <td>NaN</td>\n",
       "      <td>338</td>\n",
       "    </tr>\n",
       "    <tr>\n",
       "      <th>mean</th>\n",
       "      <td>NaN</td>\n",
       "      <td>1.405978</td>\n",
       "      <td>8.506440e+05</td>\n",
       "      <td>2.930084e+05</td>\n",
       "      <td>2.951546e+05</td>\n",
       "      <td>2.283974e+04</td>\n",
       "      <td>2.396392e+05</td>\n",
       "      <td>1.821947e+05</td>\n",
       "      <td>5.433809e+04</td>\n",
       "      <td>3106.426507</td>\n",
       "      <td>NaN</td>\n",
       "      <td>2016.147899</td>\n",
       "      <td>NaN</td>\n",
       "    </tr>\n",
       "    <tr>\n",
       "      <th>std</th>\n",
       "      <td>NaN</td>\n",
       "      <td>0.402677</td>\n",
       "      <td>3.453545e+06</td>\n",
       "      <td>1.264989e+06</td>\n",
       "      <td>1.204120e+06</td>\n",
       "      <td>1.074641e+05</td>\n",
       "      <td>9.862424e+05</td>\n",
       "      <td>7.461785e+05</td>\n",
       "      <td>2.439660e+05</td>\n",
       "      <td>17692.894652</td>\n",
       "      <td>NaN</td>\n",
       "      <td>0.939938</td>\n",
       "      <td>NaN</td>\n",
       "    </tr>\n",
       "    <tr>\n",
       "      <th>min</th>\n",
       "      <td>NaN</td>\n",
       "      <td>0.440000</td>\n",
       "      <td>8.456000e+01</td>\n",
       "      <td>0.000000e+00</td>\n",
       "      <td>0.000000e+00</td>\n",
       "      <td>0.000000e+00</td>\n",
       "      <td>0.000000e+00</td>\n",
       "      <td>0.000000e+00</td>\n",
       "      <td>0.000000e+00</td>\n",
       "      <td>0.000000</td>\n",
       "      <td>NaN</td>\n",
       "      <td>2015.000000</td>\n",
       "      <td>NaN</td>\n",
       "    </tr>\n",
       "    <tr>\n",
       "      <th>25%</th>\n",
       "      <td>NaN</td>\n",
       "      <td>1.100000</td>\n",
       "      <td>1.083858e+04</td>\n",
       "      <td>8.540700e+02</td>\n",
       "      <td>3.008780e+03</td>\n",
       "      <td>0.000000e+00</td>\n",
       "      <td>5.088640e+03</td>\n",
       "      <td>2.849420e+03</td>\n",
       "      <td>1.274700e+02</td>\n",
       "      <td>0.000000</td>\n",
       "      <td>NaN</td>\n",
       "      <td>2015.000000</td>\n",
       "      <td>NaN</td>\n",
       "    </tr>\n",
       "    <tr>\n",
       "      <th>50%</th>\n",
       "      <td>NaN</td>\n",
       "      <td>1.370000</td>\n",
       "      <td>1.073768e+05</td>\n",
       "      <td>8.645300e+03</td>\n",
       "      <td>2.906102e+04</td>\n",
       "      <td>1.849900e+02</td>\n",
       "      <td>3.974383e+04</td>\n",
       "      <td>2.636282e+04</td>\n",
       "      <td>2.647710e+03</td>\n",
       "      <td>0.000000</td>\n",
       "      <td>NaN</td>\n",
       "      <td>2016.000000</td>\n",
       "      <td>NaN</td>\n",
       "    </tr>\n",
       "    <tr>\n",
       "      <th>75%</th>\n",
       "      <td>NaN</td>\n",
       "      <td>1.660000</td>\n",
       "      <td>4.329623e+05</td>\n",
       "      <td>1.110202e+05</td>\n",
       "      <td>1.502069e+05</td>\n",
       "      <td>6.243420e+03</td>\n",
       "      <td>1.107834e+05</td>\n",
       "      <td>8.333767e+04</td>\n",
       "      <td>2.202925e+04</td>\n",
       "      <td>132.500000</td>\n",
       "      <td>NaN</td>\n",
       "      <td>2017.000000</td>\n",
       "      <td>NaN</td>\n",
       "    </tr>\n",
       "    <tr>\n",
       "      <th>max</th>\n",
       "      <td>NaN</td>\n",
       "      <td>3.250000</td>\n",
       "      <td>6.250565e+07</td>\n",
       "      <td>2.274362e+07</td>\n",
       "      <td>2.047057e+07</td>\n",
       "      <td>2.546439e+06</td>\n",
       "      <td>1.937313e+07</td>\n",
       "      <td>1.338459e+07</td>\n",
       "      <td>5.719097e+06</td>\n",
       "      <td>551693.650000</td>\n",
       "      <td>NaN</td>\n",
       "      <td>2018.000000</td>\n",
       "      <td>NaN</td>\n",
       "    </tr>\n",
       "  </tbody>\n",
       "</table>\n",
       "</div>"
      ],
      "text/plain": [
       "              Date  AveragePrice  Total Volume          4046          4225  \\\n",
       "count        18249  18249.000000  1.824900e+04  1.824900e+04  1.824900e+04   \n",
       "unique         169           NaN           NaN           NaN           NaN   \n",
       "top     2015-12-27           NaN           NaN           NaN           NaN   \n",
       "freq           108           NaN           NaN           NaN           NaN   \n",
       "mean           NaN      1.405978  8.506440e+05  2.930084e+05  2.951546e+05   \n",
       "std            NaN      0.402677  3.453545e+06  1.264989e+06  1.204120e+06   \n",
       "min            NaN      0.440000  8.456000e+01  0.000000e+00  0.000000e+00   \n",
       "25%            NaN      1.100000  1.083858e+04  8.540700e+02  3.008780e+03   \n",
       "50%            NaN      1.370000  1.073768e+05  8.645300e+03  2.906102e+04   \n",
       "75%            NaN      1.660000  4.329623e+05  1.110202e+05  1.502069e+05   \n",
       "max            NaN      3.250000  6.250565e+07  2.274362e+07  2.047057e+07   \n",
       "\n",
       "                4770    Total Bags    Small Bags    Large Bags    XLarge Bags  \\\n",
       "count   1.824900e+04  1.824900e+04  1.824900e+04  1.824900e+04   18249.000000   \n",
       "unique           NaN           NaN           NaN           NaN            NaN   \n",
       "top              NaN           NaN           NaN           NaN            NaN   \n",
       "freq             NaN           NaN           NaN           NaN            NaN   \n",
       "mean    2.283974e+04  2.396392e+05  1.821947e+05  5.433809e+04    3106.426507   \n",
       "std     1.074641e+05  9.862424e+05  7.461785e+05  2.439660e+05   17692.894652   \n",
       "min     0.000000e+00  0.000000e+00  0.000000e+00  0.000000e+00       0.000000   \n",
       "25%     0.000000e+00  5.088640e+03  2.849420e+03  1.274700e+02       0.000000   \n",
       "50%     1.849900e+02  3.974383e+04  2.636282e+04  2.647710e+03       0.000000   \n",
       "75%     6.243420e+03  1.107834e+05  8.333767e+04  2.202925e+04     132.500000   \n",
       "max     2.546439e+06  1.937313e+07  1.338459e+07  5.719097e+06  551693.650000   \n",
       "\n",
       "                type          year  region  \n",
       "count          18249  18249.000000   18249  \n",
       "unique             2           NaN      54  \n",
       "top     conventional           NaN  Albany  \n",
       "freq            9126           NaN     338  \n",
       "mean             NaN   2016.147899     NaN  \n",
       "std              NaN      0.939938     NaN  \n",
       "min              NaN   2015.000000     NaN  \n",
       "25%              NaN   2015.000000     NaN  \n",
       "50%              NaN   2016.000000     NaN  \n",
       "75%              NaN   2017.000000     NaN  \n",
       "max              NaN   2018.000000     NaN  "
      ]
     },
     "execution_count": 51,
     "metadata": {},
     "output_type": "execute_result"
    }
   ],
   "source": [
    "df.describe(include='all')"
   ]
  },
  {
   "cell_type": "code",
   "execution_count": 52,
   "id": "5ba9da3d",
   "metadata": {},
   "outputs": [
    {
     "data": {
      "text/plain": [
       "Date             object\n",
       "AveragePrice    float64\n",
       "Total Volume    float64\n",
       "4046            float64\n",
       "4225            float64\n",
       "4770            float64\n",
       "Total Bags      float64\n",
       "Small Bags      float64\n",
       "Large Bags      float64\n",
       "XLarge Bags     float64\n",
       "type             object\n",
       "year              int64\n",
       "region           object\n",
       "dtype: object"
      ]
     },
     "execution_count": 52,
     "metadata": {},
     "output_type": "execute_result"
    }
   ],
   "source": [
    "df.dtypes"
   ]
  },
  {
   "cell_type": "code",
   "execution_count": 53,
   "id": "bb141f87",
   "metadata": {},
   "outputs": [],
   "source": [
    "# Ther is not null values"
   ]
  },
  {
   "cell_type": "code",
   "execution_count": 54,
   "id": "b73a822c",
   "metadata": {},
   "outputs": [
    {
     "name": "stdout",
     "output_type": "stream",
     "text": [
      "False\n",
      "False\n",
      "False\n",
      "False\n",
      "False\n",
      "False\n",
      "False\n",
      "False\n",
      "False\n",
      "False\n",
      "False\n",
      "False\n",
      "False\n"
     ]
    }
   ],
   "source": [
    "for col in df.columns:\n",
    "    print(any(df[col].isnull()))\n",
    "    "
   ]
  },
  {
   "cell_type": "code",
   "execution_count": 55,
   "id": "fdcac40a",
   "metadata": {},
   "outputs": [
    {
     "name": "stdout",
     "output_type": "stream",
     "text": [
      "<class 'pandas.core.frame.DataFrame'>\n",
      "Int64Index: 18249 entries, 0 to 11\n",
      "Data columns (total 13 columns):\n",
      " #   Column        Non-Null Count  Dtype  \n",
      "---  ------        --------------  -----  \n",
      " 0   Date          18249 non-null  object \n",
      " 1   AveragePrice  18249 non-null  float64\n",
      " 2   Total Volume  18249 non-null  float64\n",
      " 3   4046          18249 non-null  float64\n",
      " 4   4225          18249 non-null  float64\n",
      " 5   4770          18249 non-null  float64\n",
      " 6   Total Bags    18249 non-null  float64\n",
      " 7   Small Bags    18249 non-null  float64\n",
      " 8   Large Bags    18249 non-null  float64\n",
      " 9   XLarge Bags   18249 non-null  float64\n",
      " 10  type          18249 non-null  object \n",
      " 11  year          18249 non-null  int64  \n",
      " 12  region        18249 non-null  object \n",
      "dtypes: float64(9), int64(1), object(3)\n",
      "memory usage: 1.9+ MB\n"
     ]
    }
   ],
   "source": [
    "df.info()"
   ]
  },
  {
   "cell_type": "markdown",
   "id": "16cdfd9b",
   "metadata": {},
   "source": [
    "#### Explore the dataset, pay attention to redundancies, note the categorical (non-numeric) variables."
   ]
  },
  {
   "cell_type": "code",
   "execution_count": 56,
   "id": "7baeb3da",
   "metadata": {},
   "outputs": [
    {
     "data": {
      "text/plain": [
       "18249"
      ]
     },
     "execution_count": 56,
     "metadata": {},
     "output_type": "execute_result"
    }
   ],
   "source": [
    "len(df)"
   ]
  },
  {
   "cell_type": "code",
   "execution_count": 57,
   "id": "ada561e5",
   "metadata": {},
   "outputs": [],
   "source": [
    "# redundant values will be dropet by following line"
   ]
  },
  {
   "cell_type": "code",
   "execution_count": 58,
   "id": "5226d443",
   "metadata": {},
   "outputs": [],
   "source": [
    "df.drop_duplicates(inplace=True)"
   ]
  },
  {
   "cell_type": "code",
   "execution_count": 59,
   "id": "82437700",
   "metadata": {},
   "outputs": [
    {
     "data": {
      "text/plain": [
       "18249"
      ]
     },
     "execution_count": 59,
     "metadata": {},
     "output_type": "execute_result"
    }
   ],
   "source": [
    "len(df)"
   ]
  },
  {
   "cell_type": "code",
   "execution_count": 60,
   "id": "7faa22cb",
   "metadata": {},
   "outputs": [],
   "source": [
    "# There is not duplicate rows"
   ]
  },
  {
   "cell_type": "code",
   "execution_count": 61,
   "id": "1a11fed1",
   "metadata": {},
   "outputs": [
    {
     "data": {
      "text/plain": [
       "count      18249\n",
       "unique        54\n",
       "top       Albany\n",
       "freq         338\n",
       "Name: region, dtype: object"
      ]
     },
     "execution_count": 61,
     "metadata": {},
     "output_type": "execute_result"
    }
   ],
   "source": [
    "df['region'].describe()"
   ]
  },
  {
   "cell_type": "code",
   "execution_count": 62,
   "id": "fe861920",
   "metadata": {
    "scrolled": true
   },
   "outputs": [
    {
     "data": {
      "text/plain": [
       "Albany                 338\n",
       "Sacramento             338\n",
       "Northeast              338\n",
       "NorthernNewEngland     338\n",
       "Orlando                338\n",
       "Philadelphia           338\n",
       "PhoenixTucson          338\n",
       "Pittsburgh             338\n",
       "Plains                 338\n",
       "Portland               338\n",
       "RaleighGreensboro      338\n",
       "RichmondNorfolk        338\n",
       "Roanoke                338\n",
       "SanDiego               338\n",
       "Atlanta                338\n",
       "SanFrancisco           338\n",
       "Seattle                338\n",
       "SouthCarolina          338\n",
       "SouthCentral           338\n",
       "Southeast              338\n",
       "Spokane                338\n",
       "StLouis                338\n",
       "Syracuse               338\n",
       "Tampa                  338\n",
       "TotalUS                338\n",
       "West                   338\n",
       "NewYork                338\n",
       "NewOrleansMobile       338\n",
       "Nashville              338\n",
       "Midsouth               338\n",
       "BaltimoreWashington    338\n",
       "Boise                  338\n",
       "Boston                 338\n",
       "BuffaloRochester       338\n",
       "California             338\n",
       "Charlotte              338\n",
       "Chicago                338\n",
       "CincinnatiDayton       338\n",
       "Columbus               338\n",
       "DallasFtWorth          338\n",
       "Denver                 338\n",
       "Detroit                338\n",
       "GrandRapids            338\n",
       "GreatLakes             338\n",
       "HarrisburgScranton     338\n",
       "HartfordSpringfield    338\n",
       "Houston                338\n",
       "Indianapolis           338\n",
       "Jacksonville           338\n",
       "LasVegas               338\n",
       "LosAngeles             338\n",
       "Louisville             338\n",
       "MiamiFtLauderdale      338\n",
       "WestTexNewMexico       335\n",
       "Name: region, dtype: int64"
      ]
     },
     "execution_count": 62,
     "metadata": {},
     "output_type": "execute_result"
    }
   ],
   "source": [
    "df['region'].value_counts()"
   ]
  },
  {
   "cell_type": "code",
   "execution_count": 63,
   "id": "59650bb9",
   "metadata": {},
   "outputs": [
    {
     "data": {
      "text/plain": [
       "2017    5722\n",
       "2016    5616\n",
       "2015    5615\n",
       "2018    1296\n",
       "Name: year, dtype: int64"
      ]
     },
     "execution_count": 63,
     "metadata": {},
     "output_type": "execute_result"
    }
   ],
   "source": [
    "df['year'].value_counts()"
   ]
  },
  {
   "cell_type": "code",
   "execution_count": 64,
   "id": "e24659c2",
   "metadata": {},
   "outputs": [
    {
     "data": {
      "text/plain": [
       "count    18249.000000\n",
       "mean      2016.147899\n",
       "std          0.939938\n",
       "min       2015.000000\n",
       "25%       2015.000000\n",
       "50%       2016.000000\n",
       "75%       2017.000000\n",
       "max       2018.000000\n",
       "Name: year, dtype: float64"
      ]
     },
     "execution_count": 64,
     "metadata": {},
     "output_type": "execute_result"
    }
   ],
   "source": [
    "df['year'].describe()"
   ]
  },
  {
   "cell_type": "code",
   "execution_count": 65,
   "id": "3f2fac20",
   "metadata": {},
   "outputs": [
    {
     "data": {
      "text/plain": [
       "conventional    9126\n",
       "organic         9123\n",
       "Name: type, dtype: int64"
      ]
     },
     "execution_count": 65,
     "metadata": {},
     "output_type": "execute_result"
    }
   ],
   "source": [
    "df['type'].value_counts()"
   ]
  },
  {
   "cell_type": "code",
   "execution_count": 66,
   "id": "fb516a40",
   "metadata": {},
   "outputs": [],
   "source": [
    "df['Date']=pd.to_datetime(df['Date'])\n",
    "df['Month']=df['Date'].apply(lambda x:x.month)\n",
    "df['Day']=df['Date'].apply(lambda x:x.day)"
   ]
  },
  {
   "cell_type": "code",
   "execution_count": 67,
   "id": "1d8dde7d",
   "metadata": {},
   "outputs": [],
   "source": [
    "df_final=pd.get_dummies(df.drop(['region','Date'],axis=1),drop_first=True)"
   ]
  },
  {
   "cell_type": "code",
   "execution_count": 23,
   "id": "80c90fae",
   "metadata": {},
   "outputs": [
    {
     "data": {
      "text/html": [
       "<div>\n",
       "<style scoped>\n",
       "    .dataframe tbody tr th:only-of-type {\n",
       "        vertical-align: middle;\n",
       "    }\n",
       "\n",
       "    .dataframe tbody tr th {\n",
       "        vertical-align: top;\n",
       "    }\n",
       "\n",
       "    .dataframe thead th {\n",
       "        text-align: right;\n",
       "    }\n",
       "</style>\n",
       "<table border=\"1\" class=\"dataframe\">\n",
       "  <thead>\n",
       "    <tr style=\"text-align: right;\">\n",
       "      <th></th>\n",
       "      <th>AveragePrice</th>\n",
       "      <th>Total Volume</th>\n",
       "      <th>4046</th>\n",
       "      <th>4225</th>\n",
       "      <th>4770</th>\n",
       "      <th>Total Bags</th>\n",
       "      <th>Small Bags</th>\n",
       "      <th>Large Bags</th>\n",
       "      <th>XLarge Bags</th>\n",
       "      <th>year</th>\n",
       "      <th>Month</th>\n",
       "      <th>Day</th>\n",
       "      <th>type_organic</th>\n",
       "    </tr>\n",
       "  </thead>\n",
       "  <tbody>\n",
       "    <tr>\n",
       "      <th>0</th>\n",
       "      <td>1.33</td>\n",
       "      <td>64236.62</td>\n",
       "      <td>1036.74</td>\n",
       "      <td>54454.85</td>\n",
       "      <td>48.16</td>\n",
       "      <td>8696.87</td>\n",
       "      <td>8603.62</td>\n",
       "      <td>93.25</td>\n",
       "      <td>0.0</td>\n",
       "      <td>2015</td>\n",
       "      <td>12</td>\n",
       "      <td>27</td>\n",
       "      <td>0</td>\n",
       "    </tr>\n",
       "    <tr>\n",
       "      <th>1</th>\n",
       "      <td>1.35</td>\n",
       "      <td>54876.98</td>\n",
       "      <td>674.28</td>\n",
       "      <td>44638.81</td>\n",
       "      <td>58.33</td>\n",
       "      <td>9505.56</td>\n",
       "      <td>9408.07</td>\n",
       "      <td>97.49</td>\n",
       "      <td>0.0</td>\n",
       "      <td>2015</td>\n",
       "      <td>12</td>\n",
       "      <td>20</td>\n",
       "      <td>0</td>\n",
       "    </tr>\n",
       "    <tr>\n",
       "      <th>2</th>\n",
       "      <td>0.93</td>\n",
       "      <td>118220.22</td>\n",
       "      <td>794.70</td>\n",
       "      <td>109149.67</td>\n",
       "      <td>130.50</td>\n",
       "      <td>8145.35</td>\n",
       "      <td>8042.21</td>\n",
       "      <td>103.14</td>\n",
       "      <td>0.0</td>\n",
       "      <td>2015</td>\n",
       "      <td>12</td>\n",
       "      <td>13</td>\n",
       "      <td>0</td>\n",
       "    </tr>\n",
       "    <tr>\n",
       "      <th>3</th>\n",
       "      <td>1.08</td>\n",
       "      <td>78992.15</td>\n",
       "      <td>1132.00</td>\n",
       "      <td>71976.41</td>\n",
       "      <td>72.58</td>\n",
       "      <td>5811.16</td>\n",
       "      <td>5677.40</td>\n",
       "      <td>133.76</td>\n",
       "      <td>0.0</td>\n",
       "      <td>2015</td>\n",
       "      <td>12</td>\n",
       "      <td>6</td>\n",
       "      <td>0</td>\n",
       "    </tr>\n",
       "    <tr>\n",
       "      <th>4</th>\n",
       "      <td>1.28</td>\n",
       "      <td>51039.60</td>\n",
       "      <td>941.48</td>\n",
       "      <td>43838.39</td>\n",
       "      <td>75.78</td>\n",
       "      <td>6183.95</td>\n",
       "      <td>5986.26</td>\n",
       "      <td>197.69</td>\n",
       "      <td>0.0</td>\n",
       "      <td>2015</td>\n",
       "      <td>11</td>\n",
       "      <td>29</td>\n",
       "      <td>0</td>\n",
       "    </tr>\n",
       "    <tr>\n",
       "      <th>...</th>\n",
       "      <td>...</td>\n",
       "      <td>...</td>\n",
       "      <td>...</td>\n",
       "      <td>...</td>\n",
       "      <td>...</td>\n",
       "      <td>...</td>\n",
       "      <td>...</td>\n",
       "      <td>...</td>\n",
       "      <td>...</td>\n",
       "      <td>...</td>\n",
       "      <td>...</td>\n",
       "      <td>...</td>\n",
       "      <td>...</td>\n",
       "    </tr>\n",
       "    <tr>\n",
       "      <th>7</th>\n",
       "      <td>1.63</td>\n",
       "      <td>17074.83</td>\n",
       "      <td>2046.96</td>\n",
       "      <td>1529.20</td>\n",
       "      <td>0.00</td>\n",
       "      <td>13498.67</td>\n",
       "      <td>13066.82</td>\n",
       "      <td>431.85</td>\n",
       "      <td>0.0</td>\n",
       "      <td>2018</td>\n",
       "      <td>2</td>\n",
       "      <td>4</td>\n",
       "      <td>1</td>\n",
       "    </tr>\n",
       "    <tr>\n",
       "      <th>8</th>\n",
       "      <td>1.71</td>\n",
       "      <td>13888.04</td>\n",
       "      <td>1191.70</td>\n",
       "      <td>3431.50</td>\n",
       "      <td>0.00</td>\n",
       "      <td>9264.84</td>\n",
       "      <td>8940.04</td>\n",
       "      <td>324.80</td>\n",
       "      <td>0.0</td>\n",
       "      <td>2018</td>\n",
       "      <td>1</td>\n",
       "      <td>28</td>\n",
       "      <td>1</td>\n",
       "    </tr>\n",
       "    <tr>\n",
       "      <th>9</th>\n",
       "      <td>1.87</td>\n",
       "      <td>13766.76</td>\n",
       "      <td>1191.92</td>\n",
       "      <td>2452.79</td>\n",
       "      <td>727.94</td>\n",
       "      <td>9394.11</td>\n",
       "      <td>9351.80</td>\n",
       "      <td>42.31</td>\n",
       "      <td>0.0</td>\n",
       "      <td>2018</td>\n",
       "      <td>1</td>\n",
       "      <td>21</td>\n",
       "      <td>1</td>\n",
       "    </tr>\n",
       "    <tr>\n",
       "      <th>10</th>\n",
       "      <td>1.93</td>\n",
       "      <td>16205.22</td>\n",
       "      <td>1527.63</td>\n",
       "      <td>2981.04</td>\n",
       "      <td>727.01</td>\n",
       "      <td>10969.54</td>\n",
       "      <td>10919.54</td>\n",
       "      <td>50.00</td>\n",
       "      <td>0.0</td>\n",
       "      <td>2018</td>\n",
       "      <td>1</td>\n",
       "      <td>14</td>\n",
       "      <td>1</td>\n",
       "    </tr>\n",
       "    <tr>\n",
       "      <th>11</th>\n",
       "      <td>1.62</td>\n",
       "      <td>17489.58</td>\n",
       "      <td>2894.77</td>\n",
       "      <td>2356.13</td>\n",
       "      <td>224.53</td>\n",
       "      <td>12014.15</td>\n",
       "      <td>11988.14</td>\n",
       "      <td>26.01</td>\n",
       "      <td>0.0</td>\n",
       "      <td>2018</td>\n",
       "      <td>1</td>\n",
       "      <td>7</td>\n",
       "      <td>1</td>\n",
       "    </tr>\n",
       "  </tbody>\n",
       "</table>\n",
       "<p>18249 rows × 13 columns</p>\n",
       "</div>"
      ],
      "text/plain": [
       "    AveragePrice  Total Volume     4046       4225    4770  Total Bags  \\\n",
       "0           1.33      64236.62  1036.74   54454.85   48.16     8696.87   \n",
       "1           1.35      54876.98   674.28   44638.81   58.33     9505.56   \n",
       "2           0.93     118220.22   794.70  109149.67  130.50     8145.35   \n",
       "3           1.08      78992.15  1132.00   71976.41   72.58     5811.16   \n",
       "4           1.28      51039.60   941.48   43838.39   75.78     6183.95   \n",
       "..           ...           ...      ...        ...     ...         ...   \n",
       "7           1.63      17074.83  2046.96    1529.20    0.00    13498.67   \n",
       "8           1.71      13888.04  1191.70    3431.50    0.00     9264.84   \n",
       "9           1.87      13766.76  1191.92    2452.79  727.94     9394.11   \n",
       "10          1.93      16205.22  1527.63    2981.04  727.01    10969.54   \n",
       "11          1.62      17489.58  2894.77    2356.13  224.53    12014.15   \n",
       "\n",
       "    Small Bags  Large Bags  XLarge Bags  year  Month  Day  type_organic  \n",
       "0      8603.62       93.25          0.0  2015     12   27             0  \n",
       "1      9408.07       97.49          0.0  2015     12   20             0  \n",
       "2      8042.21      103.14          0.0  2015     12   13             0  \n",
       "3      5677.40      133.76          0.0  2015     12    6             0  \n",
       "4      5986.26      197.69          0.0  2015     11   29             0  \n",
       "..         ...         ...          ...   ...    ...  ...           ...  \n",
       "7     13066.82      431.85          0.0  2018      2    4             1  \n",
       "8      8940.04      324.80          0.0  2018      1   28             1  \n",
       "9      9351.80       42.31          0.0  2018      1   21             1  \n",
       "10    10919.54       50.00          0.0  2018      1   14             1  \n",
       "11    11988.14       26.01          0.0  2018      1    7             1  \n",
       "\n",
       "[18249 rows x 13 columns]"
      ]
     },
     "execution_count": 23,
     "metadata": {},
     "output_type": "execute_result"
    }
   ],
   "source": [
    "df_final"
   ]
  },
  {
   "cell_type": "markdown",
   "id": "20099644",
   "metadata": {},
   "source": [
    "#### Drop the unnecessary columns, if any. "
   ]
  },
  {
   "cell_type": "code",
   "execution_count": 24,
   "id": "6881e368",
   "metadata": {},
   "outputs": [],
   "source": [
    "# TODO\n",
    "# Done above"
   ]
  },
  {
   "cell_type": "markdown",
   "id": "ac07e534",
   "metadata": {},
   "source": [
    "#### Choose the 'AveragePrice' column as your target (y) variable."
   ]
  },
  {
   "cell_type": "code",
   "execution_count": 25,
   "id": "efa5fbad",
   "metadata": {},
   "outputs": [],
   "source": [
    "# TODO\n",
    "X = df_final.drop(['AveragePrice'], axis = 1)\n",
    "y = df_final['AveragePrice']"
   ]
  },
  {
   "cell_type": "markdown",
   "id": "cc5b500d",
   "metadata": {},
   "source": [
    "#### Plot the relationship of each of the numerical features with the target variable"
   ]
  },
  {
   "cell_type": "code",
   "execution_count": 26,
   "id": "03183dda",
   "metadata": {},
   "outputs": [
    {
     "data": {
      "image/png": "[encoded data removed]",
      "text/plain": [
       "<Figure size 432x288 with 1 Axes>"
      ]
     },
     "metadata": {
      "needs_background": "light"
     },
     "output_type": "display_data"
    },
    {
     "data": {
      "image/png": "[encoded data removed]",
      "text/plain": [
       "<Figure size 432x288 with 1 Axes>"
      ]
     },
     "metadata": {
      "needs_background": "light"
     },
     "output_type": "display_data"
    },
    {
     "data": {
      "image/png": "[encoded data removed]",
      "text/plain": [
       "<Figure size 432x288 with 1 Axes>"
      ]
     },
     "metadata": {
      "needs_background": "light"
     },
     "output_type": "display_data"
    },
    {
     "data": {
      "image/png": "[encoded data removed]",
      "text/plain": [
       "<Figure size 432x288 with 1 Axes>"
      ]
     },
     "metadata": {
      "needs_background": "light"
     },
     "output_type": "display_data"
    },
    {
     "data": {
      "image/png": "[encoded data removed]",
      "text/plain": [
       "<Figure size 432x288 with 1 Axes>"
      ]
     },
     "metadata": {
      "needs_background": "light"
     },
     "output_type": "display_data"
    },
    {
     "data": {
      "image/png": "[encoded data removed]",
      "text/plain": [
       "<Figure size 432x288 with 1 Axes>"
      ]
     },
     "metadata": {
      "needs_background": "light"
     },
     "output_type": "display_data"
    },
    {
     "data": {
      "image/png": "[encoded data removed]",
      "text/plain": [
       "<Figure size 432x288 with 1 Axes>"
      ]
     },
     "metadata": {
      "needs_background": "light"
     },
     "output_type": "display_data"
    },
    {
     "data": {
      "image/png": "[encoded data removed]",
      "text/plain": [
       "<Figure size 432x288 with 1 Axes>"
      ]
     },
     "metadata": {
      "needs_background": "light"
     },
     "output_type": "display_data"
    }
   ],
   "source": [
    "for col in X:\n",
    "    if df_final[col].dtype == 'float64':\n",
    "        df_final.plot.scatter(x=col, y=\"AveragePrice\")"
   ]
  },
  {
   "cell_type": "code",
   "execution_count": 27,
   "id": "86d63483",
   "metadata": {},
   "outputs": [],
   "source": [
    "# Correlation matrix of whole dataset"
   ]
  },
  {
   "cell_type": "code",
   "execution_count": 28,
   "id": "f3df495f",
   "metadata": {},
   "outputs": [
    {
     "data": {
      "text/plain": [
       "<AxesSubplot:>"
      ]
     },
     "execution_count": 28,
     "metadata": {},
     "output_type": "execute_result"
    },
    {
     "data": {
      "image/png": "[encoded data removed]",
      "text/plain": [
       "<Figure size 864x432 with 2 Axes>"
      ]
     },
     "metadata": {
      "needs_background": "light"
     },
     "output_type": "display_data"
    }
   ],
   "source": [
    "plt.figure(figsize=(12,6))\n",
    "sns.heatmap(df_final.corr(),cmap='coolwarm',annot=True)"
   ]
  },
  {
   "cell_type": "markdown",
   "id": "32b69b87",
   "metadata": {},
   "source": [
    "#### Convert categorical variables to numeric. \n",
    "#### Note: variables with little amount of unique values are better to be considered categoricals."
   ]
  },
  {
   "cell_type": "code",
   "execution_count": 29,
   "id": "2f8fdf40",
   "metadata": {},
   "outputs": [],
   "source": [
    "# TODO\n",
    "# Done above"
   ]
  },
  {
   "cell_type": "markdown",
   "id": "90806197",
   "metadata": {},
   "source": [
    "#### Devide data into Train and Test sets with the ratio 80:20."
   ]
  },
  {
   "cell_type": "code",
   "execution_count": 30,
   "id": "67c52683",
   "metadata": {},
   "outputs": [
    {
     "data": {
      "text/plain": [
       "((13686, 13), (4563, 13), (13686,), (4563,))"
      ]
     },
     "execution_count": 30,
     "metadata": {},
     "output_type": "execute_result"
    }
   ],
   "source": [
    "# TODO\n",
    "from sklearn.model_selection import train_test_split\n",
    "\n",
    "X_train, X_test, y_train, y_test = train_test_split(df_final, y, shuffle=True, random_state=2021)\n",
    "X_train.shape, X_test.shape, y_train.shape, y_test.shape"
   ]
  },
  {
   "cell_type": "code",
   "execution_count": 31,
   "id": "ee49c319",
   "metadata": {},
   "outputs": [],
   "source": [
    "from sklearn.linear_model import LinearRegression\n",
    "from sklearn.metrics import mean_squared_error"
   ]
  },
  {
   "cell_type": "code",
   "execution_count": 32,
   "id": "91e165fb",
   "metadata": {},
   "outputs": [
    {
     "data": {
      "text/plain": [
       "LinearRegression()"
      ]
     },
     "execution_count": 32,
     "metadata": {},
     "output_type": "execute_result"
    }
   ],
   "source": [
    "reg = LinearRegression()\n",
    "reg.fit(X_train.to_numpy(), y_train.to_numpy())"
   ]
  },
  {
   "cell_type": "code",
   "execution_count": 33,
   "id": "38d30407",
   "metadata": {},
   "outputs": [
    {
     "data": {
      "text/plain": [
       "(array([ 1.00000000e+00, -2.11909596e-17,  2.11731193e-17,  2.11229165e-17,\n",
       "         2.17086085e-17]),\n",
       " 1.3176126856251358e-12)"
      ]
     },
     "execution_count": 33,
     "metadata": {},
     "output_type": "execute_result"
    }
   ],
   "source": [
    "reg.coef_[:5], reg.intercept_"
   ]
  },
  {
   "cell_type": "code",
   "execution_count": 34,
   "id": "f16c79f2",
   "metadata": {},
   "outputs": [],
   "source": [
    "mse_full_dataset = mean_squared_error(reg.predict(X_test.to_numpy()), y_test.to_numpy())"
   ]
  },
  {
   "cell_type": "code",
   "execution_count": 35,
   "id": "ece89e92",
   "metadata": {},
   "outputs": [
    {
     "data": {
      "text/plain": [
       "1.9099934809574082e-27"
      ]
     },
     "execution_count": 35,
     "metadata": {},
     "output_type": "execute_result"
    }
   ],
   "source": [
    "mse_full_dataset"
   ]
  },
  {
   "cell_type": "markdown",
   "id": "62c5aa28",
   "metadata": {},
   "source": [
    "#### Choose 5 most relevant features from dataset with 'Forward Selection' (find in your slides)."
   ]
  },
  {
   "cell_type": "code",
   "execution_count": 36,
   "id": "5eb9324a",
   "metadata": {},
   "outputs": [],
   "source": [
    "def RSS(y_test, y_pred):\n",
    "    return np.sum((y_pred - y_test)**2)"
   ]
  },
  {
   "cell_type": "code",
   "execution_count": 37,
   "id": "040d19ec",
   "metadata": {},
   "outputs": [],
   "source": [
    "from sklearn.linear_model import LinearRegression\n",
    "from sklearn.metrics import r2_score\n",
    "\n",
    "# TODO\n",
    "\n",
    "best_selected_features = []\n",
    "all_featuers = df_final.columns.difference([\"AveragePrice\"])\n",
    "number_of_best_features = 5\n",
    "rss_scores = {}\n",
    "\n",
    "for i in range(number_of_best_features):\n",
    "    \n",
    "    least_rss_score = np.inf\n",
    "    least_rss_feature = None\n",
    "    \n",
    "    #                                to not take features already selected\n",
    "    for feature in df_final.columns.difference([\"AveragePrice\", *best_selected_features]):\n",
    "        lin_reg = LinearRegression()\n",
    "        using_featires = best_selected_features + [feature]\n",
    "\n",
    "        lin_reg.fit(X_train[using_featires].values, y_train.to_numpy())\n",
    "\n",
    "        pred = lin_reg.predict(X_test[using_featires].values)\n",
    "        \n",
    "        pred_rss = RSS(pred, y_test.to_numpy())\n",
    "        \n",
    "#         print(f\"RSS, {feature}\", RSS(pred, y_test.to_numpy()))\n",
    "        \n",
    "        if least_rss_score > pred_rss:\n",
    "            least_rss_score = pred_rss\n",
    "            least_rss_feature = feature\n",
    "\n",
    "    best_selected_features.append(least_rss_feature)\n",
    "    rss_scores[len(best_selected_features)] = least_rss_score"
   ]
  },
  {
   "cell_type": "code",
   "execution_count": 38,
   "id": "422e0b8e",
   "metadata": {},
   "outputs": [
    {
     "data": {
      "text/plain": [
       "['type_organic', 'Month', 'year', '4046', '4225']"
      ]
     },
     "execution_count": 38,
     "metadata": {},
     "output_type": "execute_result"
    }
   ],
   "source": [
    "best_selected_features"
   ]
  },
  {
   "cell_type": "code",
   "execution_count": 39,
   "id": "2059e49b",
   "metadata": {},
   "outputs": [
    {
     "name": "stdout",
     "output_type": "stream",
     "text": [
      "Best RSS score with 1 features is 475.4827853409745.\n",
      "Best RSS score with 2 features is 454.88558622885694.\n",
      "Best RSS score with 3 features is 441.90973319842226.\n",
      "Best RSS score with 4 features is 438.7794902299257.\n",
      "Best RSS score with 5 features is 433.41699515653136.\n"
     ]
    }
   ],
   "source": [
    "for i, score in rss_scores.items():\n",
    "    print(f\"Best RSS score with {i} features is {score}.\")"
   ]
  },
  {
   "cell_type": "code",
   "execution_count": 40,
   "id": "a7e730b8",
   "metadata": {},
   "outputs": [],
   "source": [
    "from sklearn.metrics import mean_squared_error\n",
    "\n",
    "# TODO\n"
   ]
  },
  {
   "cell_type": "markdown",
   "id": "d5c4b258",
   "metadata": {},
   "source": [
    "#### Choose 5 most relevant features from dataset with 'Backward Selection' (find in your slides)."
   ]
  },
  {
   "cell_type": "code",
   "execution_count": 70,
   "id": "88381912",
   "metadata": {},
   "outputs": [
    {
     "name": "stdout",
     "output_type": "stream",
     "text": [
      "0.0\n",
      "None\n",
      "********************\n",
      "oooooooooooooooooooooooooooooooooooooooooooooooooo\n",
      "0.0\n",
      "4046\n",
      "********************\n",
      "0.0\n",
      "4046\n",
      "********************\n",
      "0.0\n",
      "4046\n",
      "********************\n",
      "0.0\n",
      "4046\n",
      "********************\n",
      "0.0\n",
      "4046\n",
      "********************\n",
      "0.0\n",
      "4046\n",
      "********************\n",
      "0.0\n",
      "4046\n",
      "********************\n",
      "0.0\n",
      "4046\n",
      "********************\n",
      "0.0\n",
      "4046\n",
      "********************\n",
      "0.0\n",
      "4046\n",
      "********************\n",
      "0.0\n",
      "4046\n",
      "********************\n",
      "4046\n",
      "['4046', '4225', '4770', 'Day', 'Large Bags', 'Month', 'Small Bags', 'Total Bags', 'Total Volume', 'XLarge Bags', 'type_organic', 'year']\n",
      "0.0\n",
      "None\n",
      "********************\n",
      "oooooooooooooooooooooooooooooooooooooooooooooooooo\n",
      "0.0\n",
      "4225\n",
      "********************\n",
      "0.0\n",
      "4225\n",
      "********************\n",
      "0.0\n",
      "4225\n",
      "********************\n",
      "0.0\n",
      "4225\n",
      "********************\n",
      "0.0\n",
      "4225\n",
      "********************\n",
      "0.0\n",
      "4225\n",
      "********************\n",
      "0.0\n",
      "4225\n",
      "********************\n",
      "0.0\n",
      "4225\n",
      "********************\n",
      "0.0\n",
      "4225\n",
      "********************\n",
      "0.0\n",
      "4225\n",
      "********************\n",
      "4225\n",
      "['4225', '4770', 'Day', 'Large Bags', 'Month', 'Small Bags', 'Total Bags', 'Total Volume', 'XLarge Bags', 'type_organic', 'year']\n",
      "0.0\n",
      "None\n",
      "********************\n",
      "oooooooooooooooooooooooooooooooooooooooooooooooooo\n",
      "0.0\n",
      "4770\n",
      "********************\n",
      "0.0\n",
      "4770\n",
      "********************\n",
      "0.0\n",
      "4770\n",
      "********************\n",
      "0.0\n",
      "4770\n",
      "********************\n",
      "0.0\n",
      "4770\n",
      "********************\n",
      "0.0\n",
      "4770\n",
      "********************\n",
      "0.0\n",
      "4770\n",
      "********************\n",
      "0.0\n",
      "4770\n",
      "********************\n",
      "0.0\n",
      "4770\n",
      "********************\n",
      "4770\n",
      "['4770', 'Day', 'Large Bags', 'Month', 'Small Bags', 'Total Bags', 'Total Volume', 'XLarge Bags', 'type_organic', 'year']\n",
      "0.0\n",
      "None\n",
      "********************\n",
      "oooooooooooooooooooooooooooooooooooooooooooooooooo\n",
      "0.0\n",
      "Day\n",
      "********************\n",
      "0.0\n",
      "Day\n",
      "********************\n",
      "0.0\n",
      "Day\n",
      "********************\n",
      "0.0\n",
      "Day\n",
      "********************\n",
      "0.0\n",
      "Day\n",
      "********************\n",
      "0.0\n",
      "Day\n",
      "********************\n",
      "0.0\n",
      "Day\n",
      "********************\n",
      "0.0\n",
      "Day\n",
      "********************\n",
      "Day\n",
      "['Day', 'Large Bags', 'Month', 'Small Bags', 'Total Bags', 'Total Volume', 'XLarge Bags', 'type_organic', 'year']\n",
      "0.0\n",
      "None\n",
      "********************\n",
      "oooooooooooooooooooooooooooooooooooooooooooooooooo\n",
      "0.0\n",
      "Large Bags\n",
      "********************\n",
      "0.0\n",
      "Large Bags\n",
      "********************\n",
      "0.0\n",
      "Large Bags\n",
      "********************\n",
      "0.0\n",
      "Large Bags\n",
      "********************\n",
      "0.0\n",
      "Large Bags\n",
      "********************\n",
      "0.0\n",
      "Large Bags\n",
      "********************\n",
      "0.0\n",
      "Large Bags\n",
      "********************\n",
      "Large Bags\n",
      "['Large Bags', 'Month', 'Small Bags', 'Total Bags', 'Total Volume', 'XLarge Bags', 'type_organic', 'year']\n",
      "0.0\n",
      "None\n",
      "********************\n",
      "oooooooooooooooooooooooooooooooooooooooooooooooooo\n",
      "0.0\n",
      "Month\n",
      "********************\n",
      "0.0\n",
      "Month\n",
      "********************\n",
      "0.0\n",
      "Month\n",
      "********************\n",
      "0.0\n",
      "Month\n",
      "********************\n",
      "0.0\n",
      "Month\n",
      "********************\n",
      "0.0\n",
      "Month\n",
      "********************\n",
      "Month\n",
      "['Month', 'Small Bags', 'Total Bags', 'Total Volume', 'XLarge Bags', 'type_organic', 'year']\n",
      "0.0\n",
      "None\n",
      "********************\n",
      "oooooooooooooooooooooooooooooooooooooooooooooooooo\n",
      "0.0\n",
      "Small Bags\n",
      "********************\n",
      "0.0\n",
      "Small Bags\n",
      "********************\n",
      "0.0\n",
      "Small Bags\n",
      "********************\n",
      "0.0\n",
      "Small Bags\n",
      "********************\n",
      "0.0\n",
      "Small Bags\n",
      "********************\n",
      "Small Bags\n",
      "['Small Bags', 'Total Bags', 'Total Volume', 'XLarge Bags', 'type_organic', 'year']\n"
     ]
    }
   ],
   "source": [
    "# TODO\n",
    "all_featuers = list(df_final.columns.difference([\"AveragePrice\"]))\n",
    "current_selected_features = all_featuers[:]\n",
    "removed_features = []\n",
    "number_of_best_features = 5\n",
    "rss_scores = {}\n",
    "\n",
    "while len(current_selected_features) != number_of_best_features:\n",
    "    \n",
    "    lin_reg = LinearRegression()\n",
    "    \n",
    "    lin_reg.fit(X_train[current_selected_features].values, y_train.to_numpy())\n",
    "\n",
    "    pred = lin_reg.predict(X_test[current_selected_features].values)\n",
    "        \n",
    "    pred_rss = RSS(y_test.to_numpy(), pred)\n",
    "    \n",
    "    highest_p_value = 0\n",
    "    highest_p_value_feature = None\n",
    "    \n",
    "    for est, feature in zip(lin_reg.coef_, current_selected_features[:]):\n",
    "        \n",
    "        # variance source https://www.calculatorsoup.com/calculators/statistics/variance-calculator.php\n",
    "        variance = np.sum((X_train[feature] - X_train[feature].mean())**2) / len(X_train)\n",
    "        \n",
    "        # standard error\n",
    "        SE_b = variance**0.5 / np.sum((X_train[feature] - X_train[feature].mean())**2)\n",
    "        \n",
    "        # compute the t statistics\n",
    "        t_stat = est / SE_b\n",
    "        \n",
    "        # p value \n",
    "        # here df is the degree of freedom\n",
    "        # having it 10 gives some apporximation to deal with the data\n",
    "        df = len(X_train) - len(current_selected_features)\n",
    "        p_value = stats.t.sf(abs(t_stat), df=df)\n",
    "        print(p_value)\n",
    "        print(highest_p_value_feature)\n",
    "        print(\"*\"*20)\n",
    "        \n",
    "        if highest_p_value < p_value or highest_p_value_feature is None:\n",
    "            print('o'*50)\n",
    "            highest_p_value = p_value\n",
    "            highest_p_value_feature = feature\n",
    "\n",
    "    print(highest_p_value_feature)\n",
    "    print(current_selected_features)\n",
    "    current_selected_features.remove(highest_p_value_feature)\n",
    "    rss_scores[len(current_selected_features)] = pred_rss\n"
   ]
  },
  {
   "cell_type": "code",
   "execution_count": 71,
   "id": "0e6a71bb",
   "metadata": {},
   "outputs": [
    {
     "name": "stdout",
     "output_type": "stream",
     "text": [
      "Best RSS score with 11 features is 429.42958351553295.\n",
      "Best RSS score with 10 features is 429.40555945124936.\n",
      "Best RSS score with 9 features is 436.6375916740102.\n",
      "Best RSS score with 8 features is 436.6979906100953.\n",
      "Best RSS score with 7 features is 437.14080389544716.\n",
      "Best RSS score with 6 features is 437.16952578089456.\n",
      "Best RSS score with 5 features is 462.59381617428926.\n"
     ]
    }
   ],
   "source": [
    "for i, score in rss_scores.items():\n",
    "    print(f\"Best RSS score with {i} features is {score}.\")"
   ]
  },
  {
   "cell_type": "code",
   "execution_count": 72,
   "id": "4c10444e",
   "metadata": {},
   "outputs": [
    {
     "data": {
      "text/plain": [
       "['Total Bags', 'Total Volume', 'XLarge Bags', 'type_organic', 'year']"
      ]
     },
     "execution_count": 72,
     "metadata": {},
     "output_type": "execute_result"
    }
   ],
   "source": [
    "current_selected_features"
   ]
  },
  {
   "cell_type": "markdown",
   "id": "f2b981bc",
   "metadata": {},
   "source": [
    "#### Choose only features for further which occur in both previous results."
   ]
  },
  {
   "cell_type": "code",
   "execution_count": 73,
   "id": "6ba5d7b1",
   "metadata": {},
   "outputs": [
    {
     "data": {
      "text/plain": [
       "{'type_organic', 'year'}"
      ]
     },
     "execution_count": 73,
     "metadata": {},
     "output_type": "execute_result"
    }
   ],
   "source": [
    "# TODO\n",
    "set(current_selected_features).intersection(set(best_selected_features))"
   ]
  },
  {
   "cell_type": "markdown",
   "id": "c9d0be77",
   "metadata": {},
   "source": [
    "#### Implement the function `fit_1d_linear_regression` that takes a matrix $x$ and a vector $y$, and returns a numpy array , where the first element $\\beta_0$ is the intercept of the line, and remainings are the coefficients of a features, like $\\beta_1$, $\\beta_2$, etc."
   ]
  },
  {
   "cell_type": "code",
   "execution_count": 75,
   "id": "d783c6b7",
   "metadata": {},
   "outputs": [
    {
     "data": {
      "text/plain": [
       "Index(['AveragePrice', 'Total Volume', '4046', '4225', '4770', 'Total Bags',\n",
       "       'Small Bags', 'Large Bags', 'XLarge Bags', 'year', 'Month', 'Day',\n",
       "       'type_organic'],\n",
       "      dtype='object')"
      ]
     },
     "execution_count": 75,
     "metadata": {},
     "output_type": "execute_result"
    }
   ],
   "source": [
    "X_train.columns"
   ]
  },
  {
   "cell_type": "code",
   "execution_count": 76,
   "id": "41963931",
   "metadata": {},
   "outputs": [],
   "source": [
    "import numpy as np\n",
    "\n",
    "def fit_1d_linear_regression(X, Y):\n",
    "    \"\"\"\n",
    "    :param data_vector: A pandas series object (i.e. a column of a dataframe),\n",
    "                        where each element is a data point (x)\n",
    "    :param response_vector: A pandas series object (i.e. a column of a dataframe),\n",
    "                        where each element is label (y)\n",
    "    :return: numpy array beta of coefficients of the regression\n",
    "    \n",
    "    Note: You can avoid the intercept for simplicity \n",
    "    or include the intercept for an extra point\n",
    "    \"\"\"\n",
    "    \n",
    "    # TODO\n",
    "    \n",
    "    b_1 = np.sum((X - X.mean()) * (Y - Y.mean())) / np.sum((X - X.mean())**2)\n",
    "    # intercept\n",
    "    b_0 = Y.mean() - b_1 * X.mean()\n",
    "    \n",
    "    return b_1, b_0\n",
    "\n",
    "\n",
    "def predict(X, b_1, b_0):\n",
    "    return b_1 * X + b_0\n",
    "\n",
    "\n",
    "b_1, b_0 = fit_1d_linear_regression(X_train[\"type_organic\"].values, y_train.to_numpy())"
   ]
  },
  {
   "cell_type": "code",
   "execution_count": 77,
   "id": "46f40e1e",
   "metadata": {},
   "outputs": [],
   "source": [
    "imp_reg_pred = predict(X_test[\"type_organic\"].values, b_1, b_0)"
   ]
  },
  {
   "cell_type": "code",
   "execution_count": 78,
   "id": "3aa24264",
   "metadata": {},
   "outputs": [
    {
     "data": {
      "text/plain": [
       "array([1.15833116, 1.64912947, 1.15833116, ..., 1.64912947, 1.64912947,\n",
       "       1.64912947])"
      ]
     },
     "execution_count": 78,
     "metadata": {},
     "output_type": "execute_result"
    }
   ],
   "source": [
    "imp_reg_pred"
   ]
  },
  {
   "cell_type": "markdown",
   "id": "c807b148",
   "metadata": {},
   "source": [
    "#### Now fit the data to LinearRegression model of sklearn.linear_model."
   ]
  },
  {
   "cell_type": "code",
   "execution_count": 80,
   "id": "06c15c7b",
   "metadata": {},
   "outputs": [],
   "source": [
    "from sklearn.linear_model import LinearRegression\n",
    "\n",
    "# TODO\n",
    "reg = LinearRegression()\n",
    "reg.fit(X_train[\"type_organic\"].to_numpy().reshape(-1, 1), y_train.to_numpy())\n",
    "\n",
    "sklearn_pred = reg.predict(X_test[\"type_organic\"].to_numpy().reshape(-1, 1))"
   ]
  },
  {
   "cell_type": "code",
   "execution_count": 82,
   "id": "384cfeef",
   "metadata": {},
   "outputs": [
    {
     "name": "stdout",
     "output_type": "stream",
     "text": [
      "RSS\n",
      "sklearn model     475.4827853409745\n",
      "implemented model 475.482785340973\n",
      "\n",
      "mean_squared_error\n",
      "sklearn model     0.10420398539140358\n",
      "implemented model 0.10420398539140324\n"
     ]
    }
   ],
   "source": [
    "print(\"RSS\")\n",
    "print(\"sklearn model    \", RSS(y_test, sklearn_pred))\n",
    "print(\"implemented model\", RSS(y_test, imp_reg_pred))\n",
    "print()\n",
    "print(\"mean_squared_error\")\n",
    "print(\"sklearn model    \", mean_squared_error(y_test, sklearn_pred))\n",
    "print(\"implemented model\", mean_squared_error(y_test, imp_reg_pred))"
   ]
  },
  {
   "cell_type": "markdown",
   "id": "fb65d341",
   "metadata": {},
   "source": [
    "#### Implement the following functions: mean_squared_error, mean_absolute_error, r2_score.\n",
    "#### Each of them should have 2 vector arguments and return the appropriate score."
   ]
  },
  {
   "cell_type": "code",
   "execution_count": 83,
   "id": "af0511b5",
   "metadata": {},
   "outputs": [],
   "source": [
    "# TODO\n",
    "def imp_mean_sqaured_error(y_test, y_pred):\n",
    "    return np.sum((y_pred - y_test)**2) / len(y_pred)\n",
    "\n",
    "def imp_mean_absolute_error(y_test, y_pred):\n",
    "    return np.sum(np.abs(y_pred - y_test)) / len(y_pred)\n",
    "\n",
    "# total sum of squares\n",
    "def TSS(y_test):\n",
    "    return np.sum((y_test - y_test.mean())**2)\n",
    "\n",
    "def imp_r2_score(y_test, y_pred):\n",
    "    return 1 - (RSS(y_test, y_pred) / TSS(y_test))"
   ]
  },
  {
   "cell_type": "markdown",
   "id": "a3a3db14",
   "metadata": {},
   "source": [
    "#### Compare the resulting scores of your functions and scores of corresponding sklearn functions. They should be the same."
   ]
  },
  {
   "cell_type": "code",
   "execution_count": 84,
   "id": "2b4ae55d",
   "metadata": {},
   "outputs": [
    {
     "name": "stdout",
     "output_type": "stream",
     "text": [
      "mean_squared_error 0.10420398539140324\n",
      "implemented mean_squared_error 0.10420398539140324\n",
      "\n",
      "mean_absolute_error 0.2459327765233717\n",
      "implemented mean_absolute_error 0.2459327765233717\n",
      "\n",
      "r2_score 0.38439142632941303\n",
      "implemented r2_score 0.38439142632941303\n"
     ]
    }
   ],
   "source": [
    "from sklearn.metrics import mean_squared_error, mean_absolute_error, r2_score\n",
    "\n",
    "# TODO\n",
    "print(\"mean_squared_error\", mean_squared_error(y_test, imp_reg_pred))\n",
    "print(\"implemented mean_squared_error\", imp_mean_sqaured_error(y_test, imp_reg_pred))\n",
    "print()\n",
    "print(\"mean_absolute_error\", mean_absolute_error(y_test, imp_reg_pred))\n",
    "print(\"implemented mean_absolute_error\", imp_mean_absolute_error(y_test, imp_reg_pred))\n",
    "print()\n",
    "print(\"r2_score\", r2_score(y_test, imp_reg_pred))\n",
    "print(\"implemented r2_score\", imp_r2_score(y_test, imp_reg_pred))\n",
    "\n",
    "# they are the same."
   ]
  },
  {
   "cell_type": "code",
   "execution_count": null,
   "id": "e53e73b5",
   "metadata": {},
   "outputs": [],
   "source": []
  }
 ],
 "metadata": {
  "kernelspec": {
   "display_name": "Python 3 (ipykernel)",
   "language": "python",
   "name": "python3"
  },
  "language_info": {
   "codemirror_mode": {
    "name": "ipython",
    "version": 3
   },
   "file_extension": ".py",
   "mimetype": "text/x-python",
   "name": "python",
   "nbconvert_exporter": "python",
   "pygments_lexer": "ipython3",
   "version": "3.9.7"
  }
 },
 "nbformat": 4,
 "nbformat_minor": 5
}
