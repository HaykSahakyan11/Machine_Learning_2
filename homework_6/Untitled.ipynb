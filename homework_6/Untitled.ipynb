{
 "cells": [
  {
   "cell_type": "code",
   "execution_count": 246,
   "id": "standing-adventure",
   "metadata": {},
   "outputs": [],
   "source": [
    "from csv import writer\n",
    "\n",
    "\n",
    "class Matrix:\n",
    "    def __init__(self, *args, **kwargs):\n",
    "        \"\"\"\n",
    "        Takes 2 keyword arguments: filename or list. If filename is given\n",
    "        read the matrix from file. Else, read it directly from list.\n",
    "        \"\"\"\n",
    "        if 'filename' in kwargs:\n",
    "            self.read_from_file(kwargs['filename'])\n",
    "        elif 'list' in kwargs:\n",
    "            self.read_as_list(kwargs['list'])\n",
    "\n",
    "        self._matrix = []\n",
    "        self._columns = 0\n",
    "        self._rows = 0\n",
    "\n",
    "    def read_as_list(self, matrix_list):\n",
    "        if len(matrix_list) == 0:\n",
    "            self._matrix = []\n",
    "            self._columns = 0\n",
    "            self._rows = 0\n",
    "            return self._matrix\n",
    "\n",
    "        columns_count_0 = len(matrix_list[0])\n",
    "        if not all(len(row) == columns_count_0 for row in matrix_list):\n",
    "            raise ValueError('Got incorrect matrix')\n",
    "\n",
    "        self._matrix = matrix_list\n",
    "        self._rows = len(self._matrix)\n",
    "        self._columns = columns_count_0\n",
    "\n",
    "    def read_from_file(self, filename):\n",
    "        file_full_name = f'{filename}.csv'\n",
    "        with open(file_full_name, 'r') as f:\n",
    "            matrix_list = f.readlines()\n",
    "        matrix_list = list(\n",
    "            map(lambda s: list(map(float, s[:-1].split(' '))), matrix_list))\n",
    "        self.read_as_list(matrix_list)\n",
    "\n",
    "    def write_to_file(self, filename):\n",
    "        \"\"\"\n",
    "        Write the matrix to the given filename.\n",
    "        TODO: implement\n",
    "        \"\"\"\n",
    "        file_full_name = f'{filename}.csv'\n",
    "        data = self._matrix\n",
    "        with open(file_full_name, 'a+') as f_object:\n",
    "            writer_object = writer(f_object, delimiter='\\n', lineterminator='\\n')\n",
    "            for ls in data:\n",
    "                writer_object.writerow([ls])\n",
    "        print(f'Data has been written to the file {file_full_name}')\n",
    "\n",
    "    def __str__(self):\n",
    "        s = '---------MATRIX---------\\n'\n",
    "        s += '\\n'.join(str(row) for row in self._matrix)\n",
    "        s += '\\n'\n",
    "        s += f'colums = {self.shape[0]}\\nrows = {self.shape[1]}'\n",
    "        s += '\\n------------------------\\n'\n",
    "        return s\n",
    "\n",
    "    def transpose(self, save=False):\n",
    "        \"\"\"\n",
    "        Transpose the matrix.\n",
    "        TODO: implement\n",
    "        \"\"\"\n",
    "        matrix = self._matrix\n",
    "        flattened_matrix = list(zip(*matrix))\n",
    "        transposed_matrix = [[*elem] for elem in flattened_matrix]\n",
    "        if save:\n",
    "            self._matrix = transposed_matrix\n",
    "            self._columns, self._rows = self._rows, self._columns\n",
    "            return self\n",
    "\n",
    "        new_transposed_matrix = Matrix()\n",
    "        new_transposed_matrix.read_as_list(transposed_matrix)\n",
    "        return new_transposed_matrix\n",
    "\n",
    "    @property\n",
    "    def shape(self):\n",
    "        return self._columns, self._rows\n",
    "\n",
    "    def __add__(self, other):\n",
    "        \"\"\"\n",
    "        The `+` operator. Sum two matrices.\n",
    "        TODO: implement\n",
    "        \"\"\"\n",
    "        if not isinstance(other, Matrix):\n",
    "            raise AttributeError(f'Data types must be list')\n",
    "\n",
    "        if self.shape != other.shape:\n",
    "            raise AttributeError(\n",
    "                f\"Shapes mismatching {self.shape} and {other.shape}\"\n",
    "            )\n",
    "\n",
    "        result = [[0]*self._columns for _ in range(self._rows)]\n",
    "\n",
    "        # iterate through rows\n",
    "        for i in range(self._rows):\n",
    "            # iterate through columns\n",
    "            for j in range(self._columns):\n",
    "                result[i][j] = self._matrix[i][j] + other._matrix[i][j]\n",
    "\n",
    "        c = Matrix()\n",
    "        c.read_as_list(matrix_list=result)\n",
    "        return c\n",
    "\n",
    "    def __sub__(self, other):\n",
    "        if not isinstance(other, Matrix):\n",
    "            raise AttributeError(f'Data types must be list')\n",
    "\n",
    "        if self.shape != other.shape:\n",
    "            raise AttributeError(\n",
    "                f\"Shapes mismatching {self.shape} and {other.shape}\"\n",
    "            )\n",
    "\n",
    "        result = [[0] * self._columns for _ in range(self._rows)]\n",
    "\n",
    "        # iterate through rows\n",
    "        for i in range(self._rows):\n",
    "            # iterate through columns\n",
    "            for j in range(self._columns):\n",
    "                result[i][j] = self._matrix[i][j] - other._matrix[i][j]\n",
    "\n",
    "        c = Matrix()\n",
    "        c.read_as_list(matrix_list=result)\n",
    "        return c\n",
    "\n",
    "    def __mul__(self, other):\n",
    "        \"\"\"\n",
    "        The `*` operator. Element-wise matrix multiplication.\n",
    "        Columns and rows sizes of two matrices should be the same.\n",
    "        If other is not a matrix (int, float) multiply all elements of the matrix to other.\n",
    "        TODO: implement\n",
    "        \"\"\"\n",
    "        if not isinstance(other, (Matrix, int, float)):\n",
    "            raise AttributeError(\n",
    "                f'Attribute must be of class Matrix, int or float')\n",
    "\n",
    "        result = []\n",
    "        if isinstance(other, Matrix):\n",
    "            if self.shape != other.shape:\n",
    "                raise AttributeError(\n",
    "                    f\"Shapes mismatching {self.shape} and {other.shape}\"\n",
    "                )\n",
    "            result = [[0]*self._columns for _ in range(self._rows)]\n",
    "\n",
    "            # iterate through rows\n",
    "            for i in range(self._rows):\n",
    "                # iterate through columns\n",
    "                for j in range(self._columns):\n",
    "                    result[i][j] = self._matrix[i][j] * other._matrix[i][j]\n",
    "\n",
    "        elif isinstance(other, (int, float)):\n",
    "            result = []\n",
    "            for i in range(self._rows):\n",
    "                result.append([])\n",
    "                for j in range(self._columns):\n",
    "                    result[i].append(other * self._matrix[i][j])\n",
    "\n",
    "        c = Matrix()\n",
    "        c.read_as_list(matrix_list=result)\n",
    "        return c\n",
    "\n",
    "    def __matmul__(self, other):\n",
    "        \"\"\"\n",
    "        The `@` operator. Mathematical matrix multiplication.\n",
    "        The number of columns in the first matrix must be equal to the number of rows in the second matrix.\n",
    "        TODO: implement\n",
    "        \"\"\"\n",
    "        if self._columns != other._rows:\n",
    "            raise AssertionError(\n",
    "                f'The number of columns in the first matrix must be equal to'\n",
    "                f' the number of rows in the second matrix : First matrix ->'\n",
    "                f' ({self.shape}),Second matrix -> ({other.shape})'\n",
    "            )\n",
    "        else:\n",
    "            transposed_matrix_obj = other.transpose(save=False)\n",
    "            transposed_matrix = transposed_matrix_obj._matrix\n",
    "            return [\n",
    "                [sum(elem_slf_m * elem_tr_m\n",
    "                     for elem_slf_m, elem_tr_m in zip(row_slf_m, col_tr_m)\n",
    "                     ) for col_tr_m in transposed_matrix\n",
    "                 ]\n",
    "                for row_slf_m in self._matrix\n",
    "            ]\n",
    "\n",
    "    @property\n",
    "    def trace(self):\n",
    "        \"\"\"\n",
    "        Find the trace of the matrix.\n",
    "        TODO: implement\n",
    "        \"\"\"\n",
    "        if self._columns != self._rows:\n",
    "            raise NotImplemented(\n",
    "                \"For non square matrices trace is not defined.\"\n",
    "            )\n",
    "        tr = 0\n",
    "        for i in range(self._columns):\n",
    "            tr += self._matrix[i][i]\n",
    "        return tr\n",
    "\n",
    "    @property\n",
    "    def determinant(self):\n",
    "        \"\"\"\n",
    "        Check if the matrix is square, find the determinant.\n",
    "        TODO: implement\n",
    "        \"\"\"\n",
    "        if self._columns != self._rows:\n",
    "            raise ValueError(\"Not square matrix!\")\n",
    "        if self._columns == 1:\n",
    "            return self._matrix[0][0]\n",
    "\n",
    "        matrix = self._matrix\n",
    "        det = Matrix.get_determinant(matrix)\n",
    "        return det\n",
    "\n",
    "    @staticmethod\n",
    "    def minor(array, i, j):\n",
    "        c = array\n",
    "        c = c[:i] + c[i + 1:]\n",
    "        for k in range(0, len(c)):\n",
    "            c[k] = c[k][:j] + c[k][j + 1:]\n",
    "        print(c)\n",
    "        return c\n",
    "\n",
    "    @staticmethod\n",
    "    def get_determinant(array):\n",
    "        n = len(array)\n",
    "        if n == 1:\n",
    "            print('if n == 1')\n",
    "            return array[0][0]\n",
    "        if n == 2:\n",
    "            print('if n == 2')\n",
    "            return array[0][0] * array[1][1] - array[0][1] * array[1][0]\n",
    "        summ = 0\n",
    "        for i in range(0, n):\n",
    "            m = Matrix.minor(array, 0, i)\n",
    "            print(m, 'minor')\n",
    "            summ = summ + ((-1) ** i) * array[0][i] * Matrix.get_determinant(m)\n",
    "        return summ\n"
   ]
  },
  {
   "cell_type": "code",
   "execution_count": 247,
   "id": "mature-protocol",
   "metadata": {},
   "outputs": [
    {
     "name": "stdout",
     "output_type": "stream",
     "text": [
      "---------MATRIX---------\n",
      "[1, 2, 3]\n",
      "[4, 5, 6]\n",
      "colums = 3\n",
      "rows = 2\n",
      "------------------------\n",
      "\n"
     ]
    }
   ],
   "source": [
    "m1 = Matrix()\n",
    "m1.read_as_list([[1,2,3],\n",
    "              [4,5,6]])\n",
    "print(m1)"
   ]
  },
  {
   "cell_type": "code",
   "execution_count": 248,
   "id": "guilty-tunisia",
   "metadata": {},
   "outputs": [
    {
     "name": "stdout",
     "output_type": "stream",
     "text": [
      "---------MATRIX---------\n",
      "[10, 11]\n",
      "[20, 21]\n",
      "[30, 31]\n",
      "colums = 2\n",
      "rows = 3\n",
      "------------------------\n",
      "\n"
     ]
    }
   ],
   "source": [
    "m2 = Matrix()\n",
    "m2.read_as_list([[10,11],\n",
    "              [20,21],\n",
    "              [30,31]])\n",
    "print(m2)"
   ]
  },
  {
   "cell_type": "code",
   "execution_count": 249,
   "id": "increasing-technique",
   "metadata": {},
   "outputs": [],
   "source": [
    "b = Matrix()\n",
    "b.read_as_list([[2,1,1],\n",
    "                [1,0,3],\n",
    "                [5,2,4]])\n",
    "\n",
    "a = Matrix()\n",
    "a.read_as_list([[5,0,1],\n",
    "                [1,2,3],\n",
    "                [3,3,2]])\n",
    "\n",
    "c = Matrix()\n",
    "c.read_as_list([[5,0],\n",
    "                [1,2],\n",
    "                [3,3]])"
   ]
  },
  {
   "cell_type": "code",
   "execution_count": 250,
   "id": "ignored-dallas",
   "metadata": {},
   "outputs": [
    {
     "name": "stdout",
     "output_type": "stream",
     "text": [
      "a + a ---------MATRIX---------\n",
      "[10, 0, 2]\n",
      "[2, 4, 6]\n",
      "[6, 6, 4]\n",
      "colums = 3\n",
      "rows = 3\n",
      "------------------------\n",
      "\n"
     ]
    }
   ],
   "source": [
    "print(\"a + a\", a + a)\n",
    "#print(\"a - a\", a - a)"
   ]
  },
  {
   "cell_type": "code",
   "execution_count": 251,
   "id": "weighted-cheese",
   "metadata": {},
   "outputs": [
    {
     "name": "stdout",
     "output_type": "stream",
     "text": [
      "---------MATRIX---------\n",
      "[10, 0, 2]\n",
      "[2, 4, 6]\n",
      "[6, 6, 4]\n",
      "colums = 3\n",
      "rows = 3\n",
      "------------------------\n",
      "\n"
     ]
    }
   ],
   "source": [
    "h = a + a\n",
    "print(h)"
   ]
  },
  {
   "cell_type": "code",
   "execution_count": 252,
   "id": "intensive-spokesman",
   "metadata": {},
   "outputs": [
    {
     "name": "stdout",
     "output_type": "stream",
     "text": [
      "---------MATRIX---------\n",
      "[5, 0, 1]\n",
      "[1, 2, 3]\n",
      "[3, 3, 2]\n",
      "colums = 3\n",
      "rows = 3\n",
      "------------------------\n",
      "\n"
     ]
    }
   ],
   "source": [
    "print(a)"
   ]
  },
  {
   "cell_type": "code",
   "execution_count": 253,
   "id": "concerned-portal",
   "metadata": {},
   "outputs": [
    {
     "name": "stdout",
     "output_type": "stream",
     "text": [
      "---------MATRIX---------\n",
      "[25, 0, 5]\n",
      "[5, 10, 15]\n",
      "[15, 15, 10]\n",
      "colums = 3\n",
      "rows = 3\n",
      "------------------------\n",
      "\n"
     ]
    }
   ],
   "source": [
    "print(a * 5)"
   ]
  },
  {
   "cell_type": "code",
   "execution_count": 254,
   "id": "nominated-premises",
   "metadata": {},
   "outputs": [
    {
     "name": "stdout",
     "output_type": "stream",
     "text": [
      "---------MATRIX---------\n",
      "[5, 0, 1]\n",
      "[1, 2, 3]\n",
      "[3, 3, 2]\n",
      "colums = 3\n",
      "rows = 3\n",
      "------------------------\n",
      "\n",
      "---------MATRIX---------\n",
      "[2, 1, 1]\n",
      "[1, 0, 3]\n",
      "[5, 2, 4]\n",
      "colums = 3\n",
      "rows = 3\n",
      "------------------------\n",
      "\n"
     ]
    }
   ],
   "source": [
    "print(a)\n",
    "print(b)"
   ]
  },
  {
   "cell_type": "code",
   "execution_count": 255,
   "id": "polish-transcription",
   "metadata": {},
   "outputs": [
    {
     "name": "stdout",
     "output_type": "stream",
     "text": [
      "---------MATRIX---------\n",
      "[10, 0, 1]\n",
      "[1, 0, 9]\n",
      "[15, 6, 8]\n",
      "colums = 3\n",
      "rows = 3\n",
      "------------------------\n",
      "\n"
     ]
    }
   ],
   "source": [
    "print(a * b)"
   ]
  },
  {
   "cell_type": "code",
   "execution_count": 256,
   "id": "conceptual-acquisition",
   "metadata": {},
   "outputs": [
    {
     "name": "stdout",
     "output_type": "stream",
     "text": [
      "---------MATRIX---------\n",
      "[5, 0, 1]\n",
      "[1, 2, 3]\n",
      "[3, 3, 2]\n",
      "colums = 3\n",
      "rows = 3\n",
      "------------------------\n",
      "\n",
      "---------MATRIX---------\n",
      "[5, 0]\n",
      "[1, 2]\n",
      "[3, 3]\n",
      "colums = 2\n",
      "rows = 3\n",
      "------------------------\n",
      "\n"
     ]
    }
   ],
   "source": [
    "print(a)\n",
    "print(c)"
   ]
  },
  {
   "cell_type": "code",
   "execution_count": 257,
   "id": "handmade-roommate",
   "metadata": {},
   "outputs": [
    {
     "data": {
      "text/plain": [
       "[[28, 3], [16, 13], [24, 12]]"
      ]
     },
     "execution_count": 257,
     "metadata": {},
     "output_type": "execute_result"
    }
   ],
   "source": [
    "a @ c"
   ]
  },
  {
   "cell_type": "code",
   "execution_count": 258,
   "id": "professional-contents",
   "metadata": {},
   "outputs": [
    {
     "name": "stdout",
     "output_type": "stream",
     "text": [
      "[[2, 3], [3, 2]]\n",
      "[[2, 3], [3, 2]] minor\n",
      "if n == 2\n",
      "[[1, 3], [3, 2]]\n",
      "[[1, 3], [3, 2]] minor\n",
      "if n == 2\n",
      "[[1, 2], [3, 3]]\n",
      "[[1, 2], [3, 3]] minor\n",
      "if n == 2\n",
      "-28\n"
     ]
    }
   ],
   "source": [
    "print(a.determinant)"
   ]
  },
  {
   "cell_type": "code",
   "execution_count": 259,
   "id": "dominican-blues",
   "metadata": {},
   "outputs": [
    {
     "name": "stdout",
     "output_type": "stream",
     "text": [
      "---------MATRIX---------\n",
      "[5, 0, 1]\n",
      "[1, 2, 3]\n",
      "[3, 3, 2]\n",
      "colums = 3\n",
      "rows = 3\n",
      "------------------------\n",
      "\n"
     ]
    }
   ],
   "source": [
    "print(a)"
   ]
  },
  {
   "cell_type": "code",
   "execution_count": 260,
   "id": "cubic-kitchen",
   "metadata": {},
   "outputs": [
    {
     "data": {
      "text/plain": [
       "[[1, 2], [3, 4], [5, 6], [1, 2], [3, 4], [5, 6], [1, 2], [3, 4], [5, 6]]"
      ]
     },
     "execution_count": 260,
     "metadata": {},
     "output_type": "execute_result"
    }
   ],
   "source": [
    "[[1,2], [3,4], [5,6]] * 3"
   ]
  },
  {
   "cell_type": "code",
   "execution_count": 118,
   "id": "sudden-december",
   "metadata": {},
   "outputs": [],
   "source": [
    "def matmult(a,b):\n",
    "    zip_b = zip(*b)\n",
    "    # uncomment next line if python 3 : \n",
    "    # zip_b = list(zip_b)\n",
    "    return [[sum(ele_a*ele_b for ele_a, ele_b in zip(row_a, col_b)) \n",
    "             for col_b in zip_b] for row_a in a]\n",
    "\n"
   ]
  },
  {
   "cell_type": "code",
   "execution_count": 119,
   "id": "generous-innocent",
   "metadata": {},
   "outputs": [],
   "source": [
    "x = [[1,2,3],[4,5,6],[7,8,9],[10,11,12]]\n",
    "y = [[1,2],[1,2],[3,4]]"
   ]
  },
  {
   "cell_type": "code",
   "execution_count": 120,
   "id": "german-aging",
   "metadata": {},
   "outputs": [
    {
     "name": "stdout",
     "output_type": "stream",
     "text": [
      "<zip object at 0x064C9988>\n"
     ]
    }
   ],
   "source": [
    "print(zip(*y))"
   ]
  },
  {
   "cell_type": "code",
   "execution_count": 122,
   "id": "friendly-venue",
   "metadata": {},
   "outputs": [
    {
     "name": "stdout",
     "output_type": "stream",
     "text": [
      "(1, 1, 3)\n",
      "(2, 2, 4)\n"
     ]
    }
   ],
   "source": [
    "for i in zip(*y):\n",
    "    print(i)"
   ]
  },
  {
   "cell_type": "code",
   "execution_count": 123,
   "id": "internal-adapter",
   "metadata": {},
   "outputs": [
    {
     "data": {
      "text/plain": [
       "[(1, 1, 3), (2, 2, 4)]"
      ]
     },
     "execution_count": 123,
     "metadata": {},
     "output_type": "execute_result"
    }
   ],
   "source": [
    "zip_b = list(zip(*y))\n",
    "zip_b"
   ]
  },
  {
   "cell_type": "code",
   "execution_count": null,
   "id": "solved-start",
   "metadata": {},
   "outputs": [],
   "source": [
    "[\n",
    "    [sum(ele_a*ele_b for ele_a, ele_b in zip(row_a, col_b)) for col_b in zip_b]\n",
    "    for row_a in a\n",
    "]"
   ]
  },
  {
   "cell_type": "code",
   "execution_count": 131,
   "id": "humanitarian-percentage",
   "metadata": {},
   "outputs": [
    {
     "name": "stdout",
     "output_type": "stream",
     "text": [
      "//////////////////////////////\n",
      "[12]\n",
      "[18]\n",
      "//////////////////////////////\n",
      "[27]\n",
      "[42]\n",
      "//////////////////////////////\n",
      "[42]\n",
      "[66]\n",
      "//////////////////////////////\n",
      "[57]\n",
      "[90]\n"
     ]
    }
   ],
   "source": [
    "for row_a in x:\n",
    "    print('/'*30)\n",
    "    for col_b in zip_b:\n",
    "        print([sum(ele_a*ele_b for ele_a, ele_b in zip(row_a, col_b))])\n",
    "        sum_ls = []\n",
    "        for ele_a, ele_b in zip(row_a, col_b):\n",
    "            #print(sum(ele_a*ele_b))\n",
    "            #print(ele_a, 'ele_a')\n",
    "            #print(ele_b, 'ele_b')\n",
    "            sum_ls.append(ele_a * ele_b)\n",
    "        #print(sum(sum_ls), 'sum(sum_ls)')\n",
    "        #print('*'*30)"
   ]
  },
  {
   "cell_type": "code",
   "execution_count": 195,
   "id": "global-verse",
   "metadata": {},
   "outputs": [],
   "source": [
    "class AAA():    \n",
    "    def minor(array,i,j):\n",
    "        c = array\n",
    "        c = c[:i] + c[i+1:]\n",
    "        for k in range(0,len(c)):\n",
    "            c[k] = c[k][:j]+c[k][j+1:]\n",
    "        print(c)\n",
    "        return c\n",
    "\n",
    "\n",
    "    def det(array):\n",
    "        n = len(array)\n",
    "        if n == 1 :\n",
    "            print('if n == 1')\n",
    "            return array[0][0]\n",
    "        if n == 2 :\n",
    "            print('if n == 2')\n",
    "            return array[0][0]*array[1][1] - array[0][1]*array[1][0]\n",
    "        summ = 0\n",
    "        for i in range(0,n):\n",
    "            m = minor(array,0,i)\n",
    "            print(m, 'minor')\n",
    "            summ =summ + ((-1)**i)*array[0][i] * det(m)\n",
    "        return summ"
   ]
  },
  {
   "cell_type": "code",
   "execution_count": 196,
   "id": "sustainable-cycling",
   "metadata": {},
   "outputs": [],
   "source": [
    "square_m_1 = [\n",
    "    [1,2,3],\n",
    "    [11,22,4],\n",
    "    [111,122,5]\n",
    "]"
   ]
  },
  {
   "cell_type": "code",
   "execution_count": 197,
   "id": "lucky-mainland",
   "metadata": {},
   "outputs": [
    {
     "name": "stdout",
     "output_type": "stream",
     "text": [
      "[[22, 4], [122, 5]]\n",
      "[[22, 4], [122, 5]] minor\n",
      "if n == 2\n",
      "[[11, 4], [111, 5]]\n",
      "[[11, 4], [111, 5]] minor\n",
      "if n == 2\n",
      "[[11, 22], [111, 122]]\n",
      "[[11, 22], [111, 122]] minor\n",
      "if n == 2\n",
      "-2900\n"
     ]
    }
   ],
   "source": [
    "print(det(square_m_1))"
   ]
  },
  {
   "cell_type": "code",
   "execution_count": null,
   "id": "sweet-excellence",
   "metadata": {},
   "outputs": [],
   "source": []
  },
  {
   "cell_type": "code",
   "execution_count": null,
   "id": "authentic-radical",
   "metadata": {},
   "outputs": [],
   "source": []
  },
  {
   "cell_type": "code",
   "execution_count": null,
   "id": "collective-equilibrium",
   "metadata": {},
   "outputs": [],
   "source": []
  },
  {
   "cell_type": "code",
   "execution_count": null,
   "id": "working-journal",
   "metadata": {},
   "outputs": [],
   "source": [
    "u = a * 5"
   ]
  },
  {
   "cell_type": "code",
   "execution_count": 42,
   "id": "aware-ancient",
   "metadata": {},
   "outputs": [
    {
     "data": {
      "text/plain": [
       "[1, 2, 1, 2, 1, 2, 1, 2, 1, 2]"
      ]
     },
     "execution_count": 42,
     "metadata": {},
     "output_type": "execute_result"
    }
   ],
   "source": [
    "5 * [1,2]"
   ]
  },
  {
   "cell_type": "code",
   "execution_count": null,
   "id": "nasty-jordan",
   "metadata": {},
   "outputs": [],
   "source": [
    "\n",
    "m1 = Matrix()\n",
    "m1.read_as_list([[1,2,3],\n",
    "              [4,5,6]])\n",
    "\n",
    "m2 = Matrix()\n",
    "m2.read_as_list([[10,11],\n",
    "              [20,21],\n",
    "              [30,31]])\n",
    "#\n",
    "# m3 = m1 * m2\n",
    "# print(str(m3))\n",
    "#\n",
    "# m0 = Matrix()\n",
    "# m0.read_as_list([[4, 3, 2, 2],\n",
    "#               [0, 1, -3, 3],\n",
    "#               [0, -1, 3, 3],\n",
    "#               [0, 3, 1, 1]])\n",
    "# m0.write_to_file(\"m0mat.txt\")\n",
    "# print(str(m0 * m0.invert()))\n",
    "# print(m0.trace)\n",
    "# print(m0.minor(2, 2))\n",
    "#\n",
    "# b = Matrix()\n",
    "# b.read_as_list([[2,1,1],\n",
    "#                 [1,0,3],\n",
    "#                 [5,2,4]])\n",
    "#\n",
    "# a = Matrix()\n",
    "# a.read_as_list([[5,0,1],\n",
    "#                 [1,2,3],\n",
    "#                 [3,3,2]])\n",
    "#\n",
    "# print(\"a\", a)\n",
    "# print(\"a(-1)\", a.invert())\n",
    "# print(\"a@a(-1)\", a@2)\n",
    "#\n",
    "# print(\"a + a\", a + a)\n",
    "# print(\"a - a\", a - a)\n",
    "#\n",
    "# x = a.invert()*b\n",
    "# print(x*(a.determinant))\n",
    "# print(a*x)\n",
    "# print(m0.determinant)\n",
    "#"
   ]
  },
  {
   "cell_type": "code",
   "execution_count": 11,
   "id": "plastic-rochester",
   "metadata": {},
   "outputs": [],
   "source": [
    "matrix_ls = [\n",
    "    [1,2,3],\n",
    "    [4,5,6],\n",
    "    [7,8,9]\n",
    "]"
   ]
  },
  {
   "cell_type": "code",
   "execution_count": 13,
   "id": "assumed-discretion",
   "metadata": {},
   "outputs": [
    {
     "data": {
      "text/plain": [
       "[1, 2, 1, 2, 1, 2, 1, 2, 1, 2]"
      ]
     },
     "execution_count": 13,
     "metadata": {},
     "output_type": "execute_result"
    }
   ],
   "source": [
    "[1,2] * 5"
   ]
  },
  {
   "cell_type": "code",
   "execution_count": 33,
   "id": "occupational-celtic",
   "metadata": {},
   "outputs": [],
   "source": [
    "a = Matrix()"
   ]
  },
  {
   "cell_type": "code",
   "execution_count": 34,
   "id": "economic-timber",
   "metadata": {},
   "outputs": [
    {
     "data": {
      "text/plain": [
       "<__main__.Matrix at 0x5e4f940>"
      ]
     },
     "execution_count": 34,
     "metadata": {},
     "output_type": "execute_result"
    }
   ],
   "source": [
    "a"
   ]
  },
  {
   "cell_type": "code",
   "execution_count": 35,
   "id": "stable-deployment",
   "metadata": {},
   "outputs": [
    {
     "data": {
      "text/plain": [
       "[]"
      ]
     },
     "execution_count": 35,
     "metadata": {},
     "output_type": "execute_result"
    }
   ],
   "source": [
    "a._matrix"
   ]
  },
  {
   "cell_type": "code",
   "execution_count": 36,
   "id": "caroline-stuart",
   "metadata": {},
   "outputs": [],
   "source": [
    "a.read_as_list(matrix_list=matrix_ls)"
   ]
  },
  {
   "cell_type": "code",
   "execution_count": 37,
   "id": "bottom-religion",
   "metadata": {},
   "outputs": [
    {
     "data": {
      "text/plain": [
       "[[1, 2, 3], [4, 5, 6], [7, 8, 9]]"
      ]
     },
     "execution_count": 37,
     "metadata": {},
     "output_type": "execute_result"
    }
   ],
   "source": [
    "a._matrix"
   ]
  },
  {
   "cell_type": "code",
   "execution_count": 38,
   "id": "finite-polymer",
   "metadata": {},
   "outputs": [
    {
     "name": "stdout",
     "output_type": "stream",
     "text": [
      "---------MATRIX---------\n",
      "[1, 2, 3]\n",
      "[4, 5, 6]\n",
      "[7, 8, 9]\n",
      "colums = 3\n",
      "rows = 3\n",
      "------------------------\n",
      "\n"
     ]
    }
   ],
   "source": [
    "print(a)"
   ]
  },
  {
   "cell_type": "code",
   "execution_count": 9,
   "id": "double-singing",
   "metadata": {},
   "outputs": [],
   "source": [
    "a.write_to_file('first')"
   ]
  },
  {
   "cell_type": "code",
   "execution_count": 47,
   "id": "expected-michigan",
   "metadata": {},
   "outputs": [
    {
     "data": {
      "text/plain": [
       "<__main__.Matrix at 0x6060478>"
      ]
     },
     "execution_count": 47,
     "metadata": {},
     "output_type": "execute_result"
    }
   ],
   "source": [
    "a"
   ]
  },
  {
   "cell_type": "code",
   "execution_count": 48,
   "id": "refined-government",
   "metadata": {},
   "outputs": [
    {
     "name": "stdout",
     "output_type": "stream",
     "text": [
      "---------MATRIX---------\n",
      "[1, 2, 3]\n",
      "[4, 5, 6]\n",
      "[7, 8, 9]\n",
      "colums = 3\n",
      "rows = 3\n",
      "------------------------\n",
      "\n"
     ]
    }
   ],
   "source": [
    "print(a)"
   ]
  },
  {
   "cell_type": "code",
   "execution_count": 49,
   "id": "linear-transparency",
   "metadata": {},
   "outputs": [
    {
     "data": {
      "text/plain": [
       "[[1, 4, 7], [2, 5, 8], [3, 6, 9]]"
      ]
     },
     "execution_count": 49,
     "metadata": {},
     "output_type": "execute_result"
    }
   ],
   "source": [
    "a.transpose()"
   ]
  },
  {
   "cell_type": "code",
   "execution_count": 50,
   "id": "third-jackson",
   "metadata": {},
   "outputs": [
    {
     "data": {
      "text/plain": [
       "(3, 3)"
      ]
     },
     "execution_count": 50,
     "metadata": {},
     "output_type": "execute_result"
    }
   ],
   "source": [
    "a.shape"
   ]
  },
  {
   "cell_type": "code",
   "execution_count": 39,
   "id": "modular-territory",
   "metadata": {},
   "outputs": [],
   "source": [
    "matrix_ls_b = [\n",
    "    [1,10,100],\n",
    "    [1,10,100],\n",
    "    [1,10,100]\n",
    "]"
   ]
  },
  {
   "cell_type": "code",
   "execution_count": 52,
   "id": "detailed-insert",
   "metadata": {},
   "outputs": [
    {
     "ename": "TypeError",
     "evalue": "can't multiply sequence by non-int of type 'list'",
     "output_type": "error",
     "traceback": [
      "\u001b[1;31m---------------------------------------------------------------------------\u001b[0m",
      "\u001b[1;31mTypeError\u001b[0m                                 Traceback (most recent call last)",
      "\u001b[1;32m<ipython-input-52-7d8bfe6f4745>\u001b[0m in \u001b[0;36m<module>\u001b[1;34m\u001b[0m\n\u001b[1;32m----> 1\u001b[1;33m \u001b[0mmatrix_ls\u001b[0m \u001b[1;33m*\u001b[0m \u001b[0mmatrix_ls_b\u001b[0m\u001b[1;33m\u001b[0m\u001b[1;33m\u001b[0m\u001b[0m\n\u001b[0m",
      "\u001b[1;31mTypeError\u001b[0m: can't multiply sequence by non-int of type 'list'"
     ]
    }
   ],
   "source": [
    "matrix_ls * matrix_ls_b"
   ]
  },
  {
   "cell_type": "code",
   "execution_count": 55,
   "id": "norman-bracket",
   "metadata": {},
   "outputs": [
    {
     "ename": "TypeError",
     "evalue": "can't multiply sequence by non-int of type 'list'",
     "output_type": "error",
     "traceback": [
      "\u001b[1;31m---------------------------------------------------------------------------\u001b[0m",
      "\u001b[1;31mTypeError\u001b[0m                                 Traceback (most recent call last)",
      "\u001b[1;32m<ipython-input-55-b83aa6048c0b>\u001b[0m in \u001b[0;36m<module>\u001b[1;34m\u001b[0m\n\u001b[1;32m----> 1\u001b[1;33m \u001b[1;33m[\u001b[0m\u001b[0ma\u001b[0m\u001b[1;33m*\u001b[0m\u001b[0mb\u001b[0m \u001b[1;32mfor\u001b[0m \u001b[0ma\u001b[0m\u001b[1;33m,\u001b[0m\u001b[0mb\u001b[0m \u001b[1;32min\u001b[0m \u001b[0mzip\u001b[0m\u001b[1;33m(\u001b[0m\u001b[0mmatrix_ls\u001b[0m\u001b[1;33m,\u001b[0m\u001b[0mmatrix_ls_b\u001b[0m\u001b[1;33m)\u001b[0m\u001b[1;33m]\u001b[0m\u001b[1;33m\u001b[0m\u001b[1;33m\u001b[0m\u001b[0m\n\u001b[0m",
      "\u001b[1;32m<ipython-input-55-b83aa6048c0b>\u001b[0m in \u001b[0;36m<listcomp>\u001b[1;34m(.0)\u001b[0m\n\u001b[1;32m----> 1\u001b[1;33m \u001b[1;33m[\u001b[0m\u001b[0ma\u001b[0m\u001b[1;33m*\u001b[0m\u001b[0mb\u001b[0m \u001b[1;32mfor\u001b[0m \u001b[0ma\u001b[0m\u001b[1;33m,\u001b[0m\u001b[0mb\u001b[0m \u001b[1;32min\u001b[0m \u001b[0mzip\u001b[0m\u001b[1;33m(\u001b[0m\u001b[0mmatrix_ls\u001b[0m\u001b[1;33m,\u001b[0m\u001b[0mmatrix_ls_b\u001b[0m\u001b[1;33m)\u001b[0m\u001b[1;33m]\u001b[0m\u001b[1;33m\u001b[0m\u001b[1;33m\u001b[0m\u001b[0m\n\u001b[0m",
      "\u001b[1;31mTypeError\u001b[0m: can't multiply sequence by non-int of type 'list'"
     ]
    }
   ],
   "source": [
    "[a*b for a,b in zip(matrix_ls,matrix_ls_b)]"
   ]
  },
  {
   "cell_type": "code",
   "execution_count": 56,
   "id": "elder-spanish",
   "metadata": {},
   "outputs": [
    {
     "data": {
      "text/plain": [
       "array([ 2,  6, 12, 20])"
      ]
     },
     "execution_count": 56,
     "metadata": {},
     "output_type": "execute_result"
    }
   ],
   "source": [
    "import numpy as np\n",
    "m = [1,2,3,4]\n",
    "n = [2,3,4,5]\n",
    "np.multiply(m,n)"
   ]
  },
  {
   "cell_type": "code",
   "execution_count": 57,
   "id": "completed-interview",
   "metadata": {},
   "outputs": [
    {
     "data": {
      "text/plain": [
       "array([[  1,  20, 300],\n",
       "       [  4,  50, 600],\n",
       "       [  7,  80, 900]])"
      ]
     },
     "execution_count": 57,
     "metadata": {},
     "output_type": "execute_result"
    }
   ],
   "source": [
    "np.multiply(matrix_ls,matrix_ls_b)"
   ]
  },
  {
   "cell_type": "code",
   "execution_count": 59,
   "id": "technological-discipline",
   "metadata": {},
   "outputs": [
    {
     "data": {
      "text/plain": [
       "[1, 20, 300, 1, 20, 300, 1, 20, 300, 1, 20, 300, 1, 20, 300]"
      ]
     },
     "execution_count": 59,
     "metadata": {},
     "output_type": "execute_result"
    }
   ],
   "source": [
    "[  1,  20, 300] * 5"
   ]
  },
  {
   "cell_type": "code",
   "execution_count": 61,
   "id": "worth-sister",
   "metadata": {},
   "outputs": [
    {
     "data": {
      "text/plain": [
       "[[1, 10, 100], [1, 10, 100], [1, 10, 100]]"
      ]
     },
     "execution_count": 61,
     "metadata": {},
     "output_type": "execute_result"
    }
   ],
   "source": [
    "matrix_ls_b"
   ]
  },
  {
   "cell_type": "code",
   "execution_count": 60,
   "id": "cognitive-packet",
   "metadata": {},
   "outputs": [
    {
     "data": {
      "text/plain": [
       "[1, 10, 100]"
      ]
     },
     "execution_count": 60,
     "metadata": {},
     "output_type": "execute_result"
    }
   ],
   "source": [
    "matrix_ls_b[0]"
   ]
  },
  {
   "cell_type": "code",
   "execution_count": 62,
   "id": "sudden-camera",
   "metadata": {},
   "outputs": [
    {
     "data": {
      "text/plain": [
       "[1, 20, 300, 1, 20, 300]"
      ]
     },
     "execution_count": 62,
     "metadata": {},
     "output_type": "execute_result"
    }
   ],
   "source": [
    "[  1,  20, 300] + [  1,  20, 300]"
   ]
  },
  {
   "cell_type": "code",
   "execution_count": 64,
   "id": "resistant-hypothesis",
   "metadata": {},
   "outputs": [
    {
     "data": {
      "text/plain": [
       "[[0, 0, 0, 0, 0], [0, 0, 0, 0, 0]]"
      ]
     },
     "execution_count": 64,
     "metadata": {},
     "output_type": "execute_result"
    }
   ],
   "source": [
    "result = [[0]*5 for x in range(2)]\n",
    "result"
   ]
  },
  {
   "cell_type": "code",
   "execution_count": 65,
   "id": "drawn-delay",
   "metadata": {},
   "outputs": [
    {
     "data": {
      "text/plain": [
       "3"
      ]
     },
     "execution_count": 65,
     "metadata": {},
     "output_type": "execute_result"
    }
   ],
   "source": [
    "len(matrix_ls_b)"
   ]
  },
  {
   "cell_type": "code",
   "execution_count": 66,
   "id": "proper-jimmy",
   "metadata": {},
   "outputs": [],
   "source": [
    "matrix_ls_c = matrix_ls_b = [\n",
    "    [1,10,100],\n",
    "    [1,10,100]\n",
    "]"
   ]
  },
  {
   "cell_type": "code",
   "execution_count": 67,
   "id": "african-heart",
   "metadata": {},
   "outputs": [
    {
     "data": {
      "text/plain": [
       "2"
      ]
     },
     "execution_count": 67,
     "metadata": {},
     "output_type": "execute_result"
    }
   ],
   "source": [
    "len(matrix_ls_c)"
   ]
  },
  {
   "cell_type": "code",
   "execution_count": 77,
   "id": "noticed-myrtle",
   "metadata": {},
   "outputs": [
    {
     "name": "stdout",
     "output_type": "stream",
     "text": [
      "---------MATRIX---------\n",
      "[1, 2, 3]\n",
      "[4, 5, 6]\n",
      "[7, 8, 9]\n",
      "colums = 3\n",
      "rows = 3\n",
      "------------------------\n",
      "\n"
     ]
    }
   ],
   "source": [
    "print(a)"
   ]
  },
  {
   "cell_type": "code",
   "execution_count": 40,
   "id": "incredible-mother",
   "metadata": {},
   "outputs": [],
   "source": [
    "b = Matrix()"
   ]
  },
  {
   "cell_type": "code",
   "execution_count": 41,
   "id": "crude-zealand",
   "metadata": {},
   "outputs": [
    {
     "name": "stdout",
     "output_type": "stream",
     "text": [
      "---------MATRIX---------\n",
      "\n",
      "colums = 0\n",
      "rows = 0\n",
      "------------------------\n",
      "\n"
     ]
    }
   ],
   "source": [
    "print(b)"
   ]
  },
  {
   "cell_type": "code",
   "execution_count": 42,
   "id": "vocational-junior",
   "metadata": {},
   "outputs": [
    {
     "name": "stdout",
     "output_type": "stream",
     "text": [
      "---------MATRIX---------\n",
      "[1, 10, 100]\n",
      "[1, 10, 100]\n",
      "[1, 10, 100]\n",
      "colums = 3\n",
      "rows = 3\n",
      "------------------------\n",
      "\n"
     ]
    }
   ],
   "source": [
    "b.read_as_list(matrix_list=matrix_ls_b)\n",
    "print(b)"
   ]
  },
  {
   "cell_type": "code",
   "execution_count": 43,
   "id": "neutral-dover",
   "metadata": {},
   "outputs": [
    {
     "name": "stdout",
     "output_type": "stream",
     "text": [
      "[[2, 12, 103], [5, 15, 106], [8, 18, 109]] aaaaaaaaaaaaaaaaaaaaaaaaaaaaaa\n"
     ]
    }
   ],
   "source": [
    "c = a + b"
   ]
  },
  {
   "cell_type": "code",
   "execution_count": 44,
   "id": "inappropriate-confusion",
   "metadata": {},
   "outputs": [
    {
     "name": "stdout",
     "output_type": "stream",
     "text": [
      "---------MATRIX---------\n",
      "[2, 12, 103]\n",
      "[5, 15, 106]\n",
      "[8, 18, 109]\n",
      "colums = 3\n",
      "rows = 3\n",
      "------------------------\n",
      "\n"
     ]
    }
   ],
   "source": [
    "print(c)"
   ]
  },
  {
   "cell_type": "code",
   "execution_count": null,
   "id": "modern-worth",
   "metadata": {},
   "outputs": [],
   "source": []
  }
 ],
 "metadata": {
  "kernelspec": {
   "display_name": "Python 3",
   "language": "python",
   "name": "python3"
  },
  "language_info": {
   "codemirror_mode": {
    "name": "ipython",
    "version": 3
   },
   "file_extension": ".py",
   "mimetype": "text/x-python",
   "name": "python",
   "nbconvert_exporter": "python",
   "pygments_lexer": "ipython3",
   "version": "3.8.1"
  }
 },
 "nbformat": 4,
 "nbformat_minor": 5
}
